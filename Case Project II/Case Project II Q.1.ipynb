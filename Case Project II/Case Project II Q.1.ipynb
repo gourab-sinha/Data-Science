{
 "cells": [
  {
   "cell_type": "code",
   "execution_count": 30,
   "metadata": {},
   "outputs": [
    {
     "data": {
      "image/png": "[encoded data removed]",
      "text/plain": [
       "<Figure size 432x288 with 1 Axes>"
      ]
     },
     "metadata": {
      "needs_background": "light"
     },
     "output_type": "display_data"
    }
   ],
   "source": [
    "# Suitable Location for the Startup\n",
    "# Packages\n",
    "import pandas as pd\n",
    "import matplotlib.pyplot as plt\n",
    "import numpy as np\n",
    "\n",
    "\n",
    "# City Name Extraction \n",
    "def city_name(name):\n",
    "    return name.split('/')[0].strip()\n",
    "\n",
    "# File data to Pandas DataFrame\n",
    "df_startups = pd.read_csv('startup_funding.csv',encoding='utf-8')\n",
    "df_startups['CityLocation'].dropna(inplace = True) # Cities without any name removed\n",
    "df_startups['CityLocation'] = df_startups['CityLocation'].apply(city_name) # First City Name\n",
    "\n",
    "# Handle Case Sensitive and Proper Name \n",
    "df_startups['CityLocation'].replace('Delhi','New Delhi', inplace = True) \n",
    "df_startups['CityLocation'].replace('bangalore','Bangalore',inplace = True)\n",
    "city_funding_count = df_startups['CityLocation'].value_counts()\n",
    "cities = list(city_funding_count.index) # Get City Names in python list\n",
    "funding_counts = list(city_funding_count.values)# Get Funding Numbers in python list\n",
    "\n",
    "# City Locations where startup can be estabilished \n",
    "target_locations = {'Bangalore': True,'Mumbai': True,'Gurgaon': True,'Noida': True,'New Delhi': True}\n",
    "\n",
    "## Optimisation starts (Time Complexity O(N))\n",
    "actual_city_count = 0 \n",
    "city_pointer = 0 \n",
    "total_city = len(cities) \n",
    "\n",
    "# Pick only cities which are required\n",
    "while city_pointer<total_city:\n",
    "    if cities[city_pointer] in target_locations:\n",
    "        cities[actual_city_count] = cities[city_pointer]\n",
    "        funding_counts[actual_city_count] = funding_counts[city_pointer]\n",
    "        actual_city_count+=1\n",
    "        \n",
    "    city_pointer+=1\n",
    "\n",
    "cities = cities[:actual_city_count]\n",
    "funding_counts = funding_counts[:actual_city_count]\n",
    "\n",
    "## Optimisation ends\n",
    "\n",
    "# Plot Bar-graph\n",
    "plt.bar(cities,funding_counts)\n",
    "plt.show()\n",
    "\n",
    "# Answer: From the Bar graph we can see that location 'Bangalore'\n",
    "# got maximum number of times funding. So if my friend estabilish his\n",
    "# startup in this location i.e Bangalore, then there is a high chance of\n",
    "# getting investment. \n"
   ]
  }
 ],
 "metadata": {
  "kernelspec": {
   "display_name": "Python 3",
   "language": "python",
   "name": "python3"
  },
  "language_info": {
   "codemirror_mode": {
    "name": "ipython",
    "version": 3
   },
   "file_extension": ".py",
   "mimetype": "text/x-python",
   "name": "python",
   "nbconvert_exporter": "python",
   "pygments_lexer": "ipython3",
   "version": "3.7.4"
  }
 },
 "nbformat": 4,
 "nbformat_minor": 2
}
