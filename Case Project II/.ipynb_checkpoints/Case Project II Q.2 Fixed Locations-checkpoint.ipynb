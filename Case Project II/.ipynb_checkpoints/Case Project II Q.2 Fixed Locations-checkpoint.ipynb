{
 "cells": [
  {
   "cell_type": "code",
   "execution_count": 21,
   "metadata": {},
   "outputs": [
    {
     "data": {
      "image/png": "[encoded data removed]",
      "text/plain": [
       "<Figure size 432x288 with 1 Axes>"
      ]
     },
     "metadata": {
      "needs_background": "light"
     },
     "output_type": "display_data"
    }
   ],
   "source": [
    "# Packages\n",
    "import pandas as pd\n",
    "import matplotlib.pyplot as plt\n",
    "import numpy as np\n",
    "\n",
    "\n",
    "# City Locations where startup can be estabilished \n",
    "target_locations = {'Bangalore': True,'Mumbai': True,'Gurgaon': True,'Noida': True,'New Delhi': True}\n",
    "\n",
    "\n",
    "# City Name Extraction \n",
    "def city_name(name):\n",
    "    return name.split('/')[0].strip()\n",
    "\n",
    "\n",
    "# Filter Cities and make other null\n",
    "def filter_city(city):\n",
    "    if city in target_locations:\n",
    "        return city\n",
    "    return ''\n",
    "\n",
    "# Investors considing all the locations. \n",
    "# Will store the total number of times invested in a startup\n",
    "investors = {} \n",
    "\n",
    "\n",
    "def investor_names(investor):\n",
    "    names = investor.split(',')\n",
    "    for name in names:\n",
    "        if name!='':\n",
    "            name = name.strip().title()\n",
    "            investors[name]  = investors.get(name,0)+1 # Store the count of investment\n",
    "    return investors\n",
    "\n",
    "\n",
    "\n",
    "# File data to Pandas DataFrame\n",
    "df_startups = pd.read_csv('startup_funding.csv',encoding='utf-8')\n",
    "df_startups['CityLocation'].dropna(inplace = True) # Cities without any name removed\n",
    "df_startups['CityLocation'] = df_startups['CityLocation'].apply(city_name) # First City Name\n",
    "\n",
    "# Handle Case Sensitive and Proper Name \n",
    "df_startups['CityLocation'].replace('Delhi','New Delhi', inplace = True) \n",
    "df_startups['CityLocation'].replace('bangalore','Bangalore',inplace = True)\n",
    "city_funding_count = df_startups['CityLocation'].value_counts()\n",
    "cities = list(city_funding_count.index) # Get City Names in python list\n",
    "funding_counts = list(city_funding_count.values)# Get Funding Numbers in python list\n",
    "\n",
    "# Only cities where Friend wants to estabilish startup.\n",
    "df_startups['CityLocation'] = df_startups['CityLocation'].apply(filter_city)\n",
    "index = df_startups[df_startups['CityLocation']==''].index\n",
    "df_startups.drop(index,inplace=True)\n",
    "\n",
    "# Finding Top Five Investors which have invested in specified location's startups\n",
    "df_startups['InvestorsName'].dropna(inplace = True)\n",
    "df_startups['InvestorsName'] = df_startups['InvestorsName'].apply(investor_names)\n",
    "\n",
    "name_investmentCount = []\n",
    "for key,value in investors.items():\n",
    "    name_investmentCount.append([value,key])\n",
    "\n",
    "\n",
    "name_investmentCount.sort(reverse=True)\n",
    "\n",
    "investor = [ i[1] for i in name_investmentCount[1:6]]\n",
    "counts =  [ i[0] for i in name_investmentCount[1:6]]\n",
    "\n",
    "plt.bar(investor,counts)\n",
    "plt.xticks(rotation=45)\n",
    "plt.grid()\n",
    "plt.show()\n"
   ]
  }
 ],
 "metadata": {
  "kernelspec": {
   "display_name": "Python 3",
   "language": "python",
   "name": "python3"
  },
  "language_info": {
   "codemirror_mode": {
    "name": "ipython",
    "version": 3
   },
   "file_extension": ".py",
   "mimetype": "text/x-python",
   "name": "python",
   "nbconvert_exporter": "python",
   "pygments_lexer": "ipython3",
   "version": "3.7.4"
  }
 },
 "nbformat": 4,
 "nbformat_minor": 2
}
