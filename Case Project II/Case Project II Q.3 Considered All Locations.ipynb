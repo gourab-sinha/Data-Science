{
 "cells": [
  {
   "cell_type": "code",
   "execution_count": 3,
   "metadata": {},
   "outputs": [
    {
     "data": {
      "image/png": "[encoded data removed]",
      "text/plain": [
       "<Figure size 432x288 with 1 Axes>"
      ]
     },
     "metadata": {
      "needs_background": "light"
     },
     "output_type": "display_data"
    }
   ],
   "source": [
    "# Packages\n",
    "import pandas as pd\n",
    "import matplotlib.pyplot as plt\n",
    "import numpy as np\n",
    "\n",
    "# Investors and its funded startups names\n",
    "investors = {}\n",
    "\n",
    "def startup_investors(startup_investor):\n",
    "    startup_investor = str(startup_investor)\n",
    "    startupname = startup_investor.split('###')[0].strip().title()\n",
    "    investornames = startup_investor.split('###')[1]\n",
    "    investornames = investornames.split(',')\n",
    "    for name in investornames:\n",
    "        name = name.strip().title()\n",
    "        if name!='':\n",
    "            if investors.get(name) is None:\n",
    "                investors[name] = set([startupname])\n",
    "            else:\n",
    "                if startupname not in investors[name]:\n",
    "                    investors[name].add(startupname)\n",
    "    return startup_investor\n",
    "            \n",
    "    \n",
    "# Update Startup Names\n",
    "def updateStartupName(name):\n",
    "    oyonames = {'Oyo Rooms','OYO Rooms','OyoRooms','Oyorooms','Oyo'}\n",
    "    olanames = {'Olacabs','Ola','Ola Cabs'}\n",
    "    flipkartnames = {'Flipkart.com','Flipkart'}\n",
    "    paytmnames = {'Paytm','Paytm Marketplace'}\n",
    "    if name in oyonames:\n",
    "        return 'Oyo'\n",
    "    if name in olanames:\n",
    "        return 'Ola'\n",
    "    if name in flipkartnames:\n",
    "        return 'Flipkart'\n",
    "    if name in paytmnames:\n",
    "        return 'Paytm'\n",
    "    return name\n",
    "\n",
    "\n",
    "# Load Data\n",
    "df_startups = pd.read_csv('startup_funding.csv')\n",
    "\n",
    "# Drop all null value rows for StartupName and InvestorsName\n",
    "# Note : dropna function was not working hence I had to do it other\n",
    "# way around.\n",
    "df_startups = df_startups[pd.notna(df_startups['StartupName'])]\n",
    "df_startups = df_startups[pd.notna(df_startups['InvestorsName'])]\n",
    "df_startups['StartupName'] = df_startups['StartupName'].apply(updateStartupName)\n",
    "\n",
    "# Combined Investors Names and Startup Name to get the Investors Dictionary gets filled properly\n",
    "df_startups['startup_investor'] = df_startups['StartupName'] + '###' + df_startups['InvestorsName']\n",
    "df_startups['startup_investor'] = df_startups['startup_investor'].apply(startup_investors)\n",
    "\n",
    "investor_counts = [[len(value),key]for key, value in investors.items()]\n",
    "investor_counts.sort(reverse=True)\n",
    "investor = [ i[1] for i in investor_counts[1:6]]\n",
    "counts = [ i[0] for i in investor_counts[1:6]]\n",
    "\n",
    "plt.bar(investor,counts)\n",
    "plt.xticks(rotation=45)\n",
    "plt.grid()\n",
    "plt.show()\n"
   ]
  }
 ],
 "metadata": {
  "kernelspec": {
   "display_name": "Python 3",
   "language": "python",
   "name": "python3"
  },
  "language_info": {
   "codemirror_mode": {
    "name": "ipython",
    "version": 3
   },
   "file_extension": ".py",
   "mimetype": "text/x-python",
   "name": "python",
   "nbconvert_exporter": "python",
   "pygments_lexer": "ipython3",
   "version": "3.7.4"
  }
 },
 "nbformat": 4,
 "nbformat_minor": 2
}
