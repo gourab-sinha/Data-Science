{
 "cells": [
  {
   "cell_type": "code",
   "execution_count": 8,
   "metadata": {},
   "outputs": [
    {
     "data": {
      "image/png": "[encoded data removed]",
      "text/plain": [
       "<Figure size 432x288 with 1 Axes>"
      ]
     },
     "metadata": {
      "needs_background": "light"
     },
     "output_type": "display_data"
    }
   ],
   "source": [
    "# Packages\n",
    "import pandas as pd \n",
    "import numpy as np\n",
    "import matplotlib.pyplot as plt\n",
    "\n",
    "\n",
    "# Investors name and how many times invested in differnt startups\n",
    "investors = {}\n",
    "\n",
    "def startup_investors(startup_investor):\n",
    "    startup_investor = str(startup_investor)\n",
    "    startupname = startup_investor.split('###')[0].strip().title()\n",
    "    investornames = startup_investor.split('###')[1]\n",
    "    investornames = investornames.split(',')\n",
    "    for name in investornames:\n",
    "        name = name.strip().title()\n",
    "        if name!='':\n",
    "            if investors.get(name) is None:\n",
    "                investors[name] = set([startupname])\n",
    "            else:\n",
    "                if startupname not in investors[name]:\n",
    "                    investors[name].add(startupname)\n",
    "    return startup_investor\n",
    "\n",
    "\n",
    "\n",
    "# Update Investment Type Name\n",
    "def updateType(investtype):\n",
    "    if investtype=='SeedFunding':\n",
    "        return 'Seed Funding'\n",
    "    if investtype=='Crowd funding':\n",
    "        return 'Crowd Funding'\n",
    "    if investtype=='PrivateEquity':\n",
    "        return 'Private Equity'\n",
    "    return investtype\n",
    "\n",
    "# Update Startup Names\n",
    "def updateStartupName(name):\n",
    "    oyonames = ['Oyo Rooms','OYO Rooms','OyoRooms','Oyorooms','Oyo']\n",
    "    olanames = ['Olacabs','Ola','Ola Cabs']\n",
    "    flipkartnames = ['Flipkart.com','Flipkart']\n",
    "    paytmnames = ['Paytm','Paytm Marketplace']\n",
    "    if name in oyonames:\n",
    "        return 'Oyo'\n",
    "    if name in olanames:\n",
    "        return 'Ola'\n",
    "    if name in flipkartnames:\n",
    "        return 'Flipkart'\n",
    "    if name in paytmnames:\n",
    "        return 'Paytm'\n",
    "    return name\n",
    "\n",
    "# Load Data\n",
    "df_startups=pd.read_csv('startup_funding.csv',encoding='utf-8') \n",
    "\n",
    "# Drop null valued rows \n",
    "df_startups = df_startups[pd.notna(df_startups['InvestmentType'])]\n",
    "\n",
    "\n",
    "# Update with proper investment type\n",
    "df_startups[\"InvestmentType\"] = df_startups[\"InvestmentType\"].apply(updateType)\n",
    "\n",
    "# Filter out only Private Equity\n",
    "df_startups = df_startups[df_startups['InvestmentType']=='Private Equity']\n",
    "\n",
    "\n",
    "# Droping all rows wherein no startup name and investor name is present\n",
    "df_startups = df_startups[pd.notna(df_startups['InvestorsName'])]\n",
    "df_startups = df_startups[pd.notna(df_startups['StartupName'])]\n",
    "\n",
    "# Update with proper startup name\n",
    "df_startups['StartupName'] = df_startups['StartupName'].apply(updateStartupName)\n",
    "\n",
    "# Combine the startup name and investor names \n",
    "df_startups['startup_investor'] = df_startups['StartupName'] + '###' + df_startups['InvestorsName']\n",
    "df_startups['startup_investor'] = df_startups['startup_investor'].apply(startup_investors)\n",
    "\n",
    "\n",
    "investor_counts = [[len(value),key]for key, value in investors.items()]\n",
    "investor_counts.sort(reverse=True)\n",
    "\n",
    "investor = [ i[1] for i in investor_counts[0:5]]\n",
    "counts = [ i[0] for i in investor_counts[0:5]]\n",
    "\n",
    "plt.bar(investor,counts)\n",
    "plt.xticks(rotation=45)\n",
    "plt.grid()\n",
    "plt.show()\n"
   ]
  }
 ],
 "metadata": {
  "kernelspec": {
   "display_name": "Python 3",
   "language": "python",
   "name": "python3"
  },
  "language_info": {
   "codemirror_mode": {
    "name": "ipython",
    "version": 3
   },
   "file_extension": ".py",
   "mimetype": "text/x-python",
   "name": "python",
   "nbconvert_exporter": "python",
   "pygments_lexer": "ipython3",
   "version": "3.7.4"
  }
 },
 "nbformat": 4,
 "nbformat_minor": 2
}
