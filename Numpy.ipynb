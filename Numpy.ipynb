{
 "cells": [
  {
   "cell_type": "code",
   "execution_count": 4,
   "metadata": {},
   "outputs": [
    {
     "name": "stdout",
     "output_type": "stream",
     "text": [
      "List =  48.2177734375\n",
      "Numpy =  0.33593177795410156\n"
     ]
    }
   ],
   "source": [
    "import time\n",
    "import numpy as np\n",
    "\n",
    "size = 100000\n",
    "\n",
    "## Adding elements of array a and b\n",
    "\n",
    "def addition_using_list():\n",
    "    t1 = time.time()\n",
    "    a = range(size)\n",
    "    b = range(size)\n",
    "    c = [a[i]+b[i] for i in range(size)]\n",
    "    t2 = time.time()\n",
    "    return (t2-t1)\n",
    "\n",
    "def addition_using_numpy():\n",
    "    t1 = time.time()\n",
    "    a = np.arange(size)\n",
    "    b = np.arange(size)\n",
    "    c = a+b\n",
    "    t2 = time.time()\n",
    "    return(t2-t1)\n",
    "\n",
    "t_list = addition_using_list()\n",
    "t_numpy = addition_using_numpy()\n",
    "print(\"List = \", t_list*1000)\n",
    "print(\"Numpy = \", t_numpy*1000)\n"
   ]
  },
  {
   "cell_type": "code",
   "execution_count": 29,
   "metadata": {},
   "outputs": [
    {
     "name": "stdout",
     "output_type": "stream",
     "text": [
      "[1 1 0 0]\n"
     ]
    }
   ],
   "source": [
    "import numpy as np\n",
    "a = [1,2,3]\n",
    "b = np.array(a)\n",
    "# print(b)\n",
    "# print(type(b))\n",
    "b = np.array(a, dtype = str)\n",
    "# print(b)\n",
    "# print(type(b))\n",
    "b = np.ones(3, dtype = int)\n",
    "# print(b)\n",
    "b = np.zeros(3, dtype = int)\n",
    "# print(b)\n",
    "# 2D array\n",
    "# 2X3\n",
    "b = np.ones((2,3), dtype = int)\n",
    "# print(b)\n",
    "\n",
    "b = np.full(3,5) # size and fill value required.\n",
    "# print(b)\n",
    "b = np.empty([2,3],dtype = int, order = 'C')\n",
    "\n",
    "a = np.empty(4,dtype=int)\n",
    "print(a)"
   ]
  },
  {
   "cell_type": "code",
   "execution_count": 48,
   "metadata": {},
   "outputs": [
    {
     "name": "stdout",
     "output_type": "stream",
     "text": [
      "[0 1 2 3 4 5 6 7 8 9]\n",
      "[2. 4. 6. 8.]\n",
      "[2 3 5 6 8]\n",
      "[[1 0 0]\n",
      " [0 1 0]\n",
      " [0 0 1]]\n",
      "[[1 0 0 0]\n",
      " [0 1 0 0]\n",
      " [0 0 1 0]]\n"
     ]
    }
   ],
   "source": [
    "# Arrange and Linespace\n",
    "b = np.arange(10)\n",
    "print(b)\n",
    "b = np.arange(2,10,2, dtype = float)\n",
    "print(b)\n",
    "\n",
    "b = np.linspace(2,10,5,dtype=int,endpoint = False) # 50 values with 2 to 10 \n",
    "print(b)\n",
    "\n",
    "## Identity and Eye \n",
    "\n",
    "b = np.identity(3,dtype = int) # one argument n which nXn\n",
    "print(b)\n",
    "\n",
    "b = np.eye(3,4,dtype=int) # 3x4 matrix\n",
    "print(b)\n"
   ]
  },
  {
   "cell_type": "code",
   "execution_count": 56,
   "metadata": {},
   "outputs": [
    {
     "data": {
      "text/plain": [
       "array([[5, 6, 3, 4],\n",
       "       [2, 6, 7, 4],\n",
       "       [6, 4, 6, 2],\n",
       "       [2, 9, 1, 6]])"
      ]
     },
     "execution_count": 56,
     "metadata": {},
     "output_type": "execute_result"
    }
   ],
   "source": [
    "# Random \n",
    "b = np.random.rand(2,3)*10 # uniformly distributed b/w 0 to 1 exclusive\n",
    "b\n",
    "\n",
    "a = np.array([0,1,2,3])\n",
    "a.shape\n",
    "\n",
    "#b = np.random.randint(10,4)\n",
    "#b\n",
    "b = np.random.randint(10,size = (4,4))\n",
    "b"
   ]
  },
  {
   "cell_type": "code",
   "execution_count": 59,
   "metadata": {},
   "outputs": [
    {
     "name": "stdout",
     "output_type": "stream",
     "text": [
      "[1, 2, 3, 4, 5]\n",
      "[1 2 3 4 5]\n",
      "[2, 3, 4]\n",
      "[2 3 4]\n"
     ]
    }
   ],
   "source": [
    "li = [1,2,3,4,5]\n",
    "arr = np.array(li)\n",
    "print(li)\n",
    "print(arr)\n",
    "print(li[1:4])\n",
    "print(arr[1:4])"
   ]
  },
  {
   "cell_type": "code",
   "execution_count": 71,
   "metadata": {},
   "outputs": [
    {
     "name": "stdout",
     "output_type": "stream",
     "text": [
      "[[1, 2, 3, 4], [5, 6, 7, 8], [9, 10, 11, 12]]\n",
      "[[ 1  2  3  4]\n",
      " [ 5  6  7  8]\n",
      " [ 9 10 11 12]]\n",
      "10\n",
      "10\n",
      "10\n",
      "[5, 6, 7]\n",
      "[5 6 7]\n",
      "[[2 3]\n",
      " [6 7]]\n"
     ]
    }
   ],
   "source": [
    "li_2D = [[1,2,3,4],[5,6,7,8],[9,10,11,12]]\n",
    "arr_2D = np.array(li_2D)\n",
    "print(li_2D)\n",
    "print(arr_2D)\n",
    "print(li_2D[2][1])\n",
    "print(arr_2D[2][1])\n",
    "print(arr_2D[2,1]) # Accessing \n",
    "print(li_2D[1][:3])\n",
    "print(arr_2D[1][:3])\n",
    "# Accessing           0         1           2\n",
    "#print(li_2D[:3][2]) [1,2,3,4],[5,6,7,8],[9,10,11,12]\n",
    "# Answer is [9,10,11,12]\n",
    "print(arr_2D[0:2,1:3])"
   ]
  },
  {
   "cell_type": "code",
   "execution_count": 73,
   "metadata": {},
   "outputs": [
    {
     "data": {
      "text/plain": [
       "[2, 3, 4, 5, 6]"
      ]
     },
     "execution_count": 73,
     "metadata": {},
     "output_type": "execute_result"
    }
   ],
   "source": [
    "li = [1,2,3,4,5]\n",
    "a = np.random.randint(1,20,5)\n",
    "b = np.random.randint(1,20,5)\n",
    "li = [i+1 for i in li]\n",
    "li"
   ]
  },
  {
   "cell_type": "code",
   "execution_count": 83,
   "metadata": {},
   "outputs": [
    {
     "name": "stdout",
     "output_type": "stream",
     "text": [
      "[20 17 11 25 27]\n",
      "100\n",
      "20.0\n",
      "11\n",
      "2\n",
      "27\n",
      "4\n"
     ]
    }
   ],
   "source": [
    "a = a+1\n",
    "c = a + b\n",
    "c\n",
    "d = a - b\n",
    "d\n",
    "f = a*b\n",
    "f\n",
    "h = a / b\n",
    "h\n",
    "k = a // b \n",
    "k\n",
    "l = a ** b\n",
    "l\n",
    "print(a)\n",
    "print(a.sum())\n",
    "print(a.mean())\n",
    "print(a.min())\n",
    "print(a.argmin()) # min value index\n",
    "print(a.max())\n",
    "print(a.argmax())"
   ]
  },
  {
   "cell_type": "code",
   "execution_count": 85,
   "metadata": {},
   "outputs": [
    {
     "data": {
      "text/plain": [
       "array([ True,  True, False,  True,  True])"
      ]
     },
     "execution_count": 85,
     "metadata": {},
     "output_type": "execute_result"
    }
   ],
   "source": [
    "a > b"
   ]
  },
  {
   "cell_type": "code",
   "execution_count": 86,
   "metadata": {},
   "outputs": [
    {
     "name": "stdout",
     "output_type": "stream",
     "text": [
      "[ True  True  True  True  True]\n",
      "[ True  True  True  True  True]\n"
     ]
    }
   ],
   "source": [
    "print(np.logical_or(a,b))\n",
    "print(np.logical_and(a,b))"
   ]
  },
  {
   "cell_type": "code",
   "execution_count": 90,
   "metadata": {},
   "outputs": [
    {
     "name": "stdout",
     "output_type": "stream",
     "text": [
      "[False False False False False]\n"
     ]
    }
   ],
   "source": [
    "print(np.logical_not(a))"
   ]
  },
  {
   "cell_type": "code",
   "execution_count": 93,
   "metadata": {},
   "outputs": [
    {
     "name": "stdout",
     "output_type": "stream",
     "text": [
      "['t' 'b' 'r' 'd' 'e' 'f' 'z' 'a']\n",
      "[18 13 19  5  9 14 18 17]\n",
      "[18 13 19 14 18 17]\n"
     ]
    }
   ],
   "source": [
    "## Boolean Indexing\n",
    "a = np.array(['t','b','r','d','e','f','z','a'])\n",
    "b = np.random.randint(1,20,8)\n",
    "print(a)\n",
    "print(b)\n",
    "bool_arr = b > 10\n",
    "new_arr = b[bool_arr]\n",
    "print(new_arr)"
   ]
  },
  {
   "cell_type": "code",
   "execution_count": 95,
   "metadata": {},
   "outputs": [
    {
     "name": "stdout",
     "output_type": "stream",
     "text": [
      "[18 13 19 14 18 17]\n"
     ]
    }
   ],
   "source": [
    "new_arr = b[b>10]\n",
    "print(new_arr)"
   ]
  },
  {
   "cell_type": "code",
   "execution_count": 98,
   "metadata": {},
   "outputs": [
    {
     "name": "stdout",
     "output_type": "stream",
     "text": [
      "[13 14 17]\n"
     ]
    }
   ],
   "source": [
    "new_arr = b[(b > 10) & (b < 18)]\n",
    "print(new_arr)"
   ]
  },
  {
   "cell_type": "code",
   "execution_count": 103,
   "metadata": {},
   "outputs": [
    {
     "name": "stdout",
     "output_type": "stream",
     "text": [
      "[[False  True False False False False]\n",
      " [False False False False  True False]\n",
      " [False False False False False  True]\n",
      " [ True False False  True False False]\n",
      " [False  True  True False False False]]\n",
      "[27 27 22 24 27 29 22]\n"
     ]
    }
   ],
   "source": [
    "a = np.random.randint(1,30,(5,6))\n",
    "bool_arr = a>20\n",
    "print(bool_arr)\n",
    "ans = a[bool_arr]\n",
    "print(ans)"
   ]
  },
  {
   "cell_type": "code",
   "execution_count": 106,
   "metadata": {},
   "outputs": [
    {
     "name": "stdout",
     "output_type": "stream",
     "text": [
      "[[ 11 100   5   6  16  16]\n",
      " [ 15   4   8   9 100  19]\n",
      " [  5   7  10   9   1 100]\n",
      " [100   4  15 100   9  13]\n",
      " [  8 100 100  15   3  17]]\n"
     ]
    }
   ],
   "source": [
    "b = a\n",
    "b[bool_arr] = 100 # bool_array should be in same shape.\n",
    "print(b)"
   ]
  },
  {
   "cell_type": "code",
   "execution_count": 111,
   "metadata": {},
   "outputs": [
    {
     "name": "stdout",
     "output_type": "stream",
     "text": [
      "[[ 11  99   5   6  16  16]\n",
      " [ 15   4   8   9 100  19]\n",
      " [  5   7  10   9   1 100]\n",
      " [100   4  15 100   9  13]\n",
      " [  8  99 100  15   3  17]]\n",
      "[False False False False False]\n",
      "[[ 11  99   5   6  16  16]\n",
      " [ 15   4   8   9 100  19]\n",
      " [  5   7  10   9   1 100]\n",
      " [100   4  15 100   9  13]\n",
      " [  8  99 100  15   3  17]]\n"
     ]
    }
   ],
   "source": [
    "print(b)\n",
    "bool_arr = b[:,1] == 100  # column result in bool_array\n",
    "print(bool_arr)\n",
    "\n",
    "b[bool_arr, 1] = 99 # updating the col by mentioning the col index and pass the bool_array\n",
    "print(b)"
   ]
  },
  {
   "cell_type": "code",
   "execution_count": null,
   "metadata": {},
   "outputs": [],
   "source": []
  }
 ],
 "metadata": {
  "kernelspec": {
   "display_name": "Python 3",
   "language": "python",
   "name": "python3"
  },
  "language_info": {
   "codemirror_mode": {
    "name": "ipython",
    "version": 3
   },
   "file_extension": ".py",
   "mimetype": "text/x-python",
   "name": "python",
   "nbconvert_exporter": "python",
   "pygments_lexer": "ipython3",
   "version": "3.7.4"
  }
 },
 "nbformat": 4,
 "nbformat_minor": 2
}
