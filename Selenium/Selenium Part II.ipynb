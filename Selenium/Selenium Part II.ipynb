{
 "cells": [
  {
   "cell_type": "code",
   "execution_count": 1,
   "metadata": {},
   "outputs": [],
   "source": [
    "from selenium import webdriver\n",
    "driver = webdriver.Chrome(executable_path = '/Users/gourabsinha/Desktop/Data Science/Packages/chromedriver')\n",
    "\n",
    "\n"
   ]
  },
  {
   "cell_type": "code",
   "execution_count": 2,
   "metadata": {},
   "outputs": [],
   "source": [
    " driver.get('https://www.dell.com')"
   ]
  },
  {
   "cell_type": "code",
   "execution_count": 27,
   "metadata": {},
   "outputs": [],
   "source": [
    "text_box = driver.find_element_by_class_name('mh-search-input')\n",
    "text_box.send_keys('Gaming Laptops')\n",
    "btn = driver.find_element_by_class_name('mh-search-button-label')\n",
    "btn.click()\n",
    "\n"
   ]
  },
  {
   "cell_type": "code",
   "execution_count": 28,
   "metadata": {},
   "outputs": [],
   "source": [
    "data = driver.find_element_by_xpath('//div[contains(@class, \"gridbox\")]/div/a')"
   ]
  },
  {
   "cell_type": "code",
   "execution_count": 29,
   "metadata": {},
   "outputs": [
    {
     "data": {
      "text/plain": [
       "<selenium.webdriver.remote.webelement.WebElement (session=\"b2b2b7ccdea724bb89a9fb6ceb47e9b7\", element=\"ac21ba3f-23dc-47da-ac6b-204a994311be\")>"
      ]
     },
     "execution_count": 29,
     "metadata": {},
     "output_type": "execute_result"
    }
   ],
   "source": [
    "data"
   ]
  },
  {
   "cell_type": "code",
   "execution_count": 30,
   "metadata": {},
   "outputs": [
    {
     "data": {
      "text/plain": [
       "<selenium.webdriver.remote.webelement.WebElement (session=\"b2b2b7ccdea724bb89a9fb6ceb47e9b7\", element=\"eda395b0-6579-4470-8b33-a92984b980a4\")>"
      ]
     },
     "execution_count": 30,
     "metadata": {},
     "output_type": "execute_result"
    }
   ],
   "source": [
    "# implicit wait globally and each element\n",
    "driver.get('https://www.dell.com')\n",
    "text_box = driver.find_element_by_class_name('mh-search-input')\n",
    "text_box.send_keys('Gaming Laptops')\n",
    "btn = driver.find_element_by_class_name('mh-search-button-label')\n",
    "btn.click()\n",
    "driver.implicitly_wait(10)\n",
    "data = driver.find_element_by_xpath('//div[contains(@class, \"gridbox\")]/div/a')\n",
    "data"
   ]
  },
  {
   "cell_type": "code",
   "execution_count": 13,
   "metadata": {},
   "outputs": [],
   "source": [
    "# Explicity wait only for a particular element\n",
    "from selenium.webdriver.common.by import By\n",
    "from selenium.webdriver.support.ui import WebDriverWait\n",
    "from selenium.webdriver.support import expected_conditions as EC\n",
    "\n",
    "driver.get('https://www.dell.com')\n",
    "text_box = driver.find_element_by_class_name('mh-search-input')\n",
    "text_box.send_keys('Gaming Laptops')\n",
    "btn = driver.find_element_by_class_name('mh-search-button-label')\n",
    "btn.click()\n",
    "## Explicit Wait\n",
    "# wait = WebDriverWait(driver, 10)\n",
    "# lap1 = wait.until(EC.presence_of_element_by_located((By.XPATH,'//div[contains(@class, \"gridbox\")]/div/a')))\n",
    "# lap1.click()\n",
    "\n",
    "lap1 = WebDriverWait(driver, 10).until(\n",
    "        EC.presence_of_element_located((By.XPATH, \"//div[contains(@class, 'gridbox')]/div/a\")))\n",
    "lap1.click()\n",
    "# # data = driver.find_element_by_xpath('//div[contains(@class, \"gridbox\")]/div/a')\n",
    "# # data"
   ]
  },
  {
   "cell_type": "code",
   "execution_count": null,
   "metadata": {},
   "outputs": [],
   "source": [
    "# can be used\n",
    "# title_is(text)\n",
    "# title_contains(text)\n",
    "# text_to_be_present_in_element(ui_locator, inner_text)\n",
    "# element_to_be_selected(ui_element)\n",
    "# element_located_to_be_selected(ui_locator)\n",
    "# element_selection_state_to_be(ui_element,is_selected)\n",
    "# alter_is_present\n",
    "# frame_to_be_available_and_switch_to_it(ui_locator)\n",
    "# staleness_of(ui_element)\n",
    "# invisibility_of_element_located\n",
    "\n"
   ]
  },
  {
   "cell_type": "code",
   "execution_count": 16,
   "metadata": {},
   "outputs": [
    {
     "name": "stdout",
     "output_type": "stream",
     "text": [
      "<input id=\"exp-0\" name=\"exp\" type=\"radio\" value=\"1\">\n"
     ]
    }
   ],
   "source": [
    "# Radio buttons and checkboxes\n",
    "## Radio\n",
    "### Locate the radio button\n",
    "### Find the value\n",
    "driver.get('https://demoqa.com/automation-practice-form/')\n",
    "btn = driver.find_element_by_name('exp')\n",
    "print(btn.get_attribute('outerHTML'))"
   ]
  },
  {
   "cell_type": "code",
   "execution_count": 18,
   "metadata": {},
   "outputs": [],
   "source": [
    "driver.get('https://demoqa.com/automation-practice-form/')\n",
    "btn = driver.find_elements_by_name('exp')\n",
    "# print(btn.get_attribute('outerHTML'))\n",
    "btn[2].click()"
   ]
  },
  {
   "cell_type": "code",
   "execution_count": 19,
   "metadata": {},
   "outputs": [
    {
     "name": "stdout",
     "output_type": "stream",
     "text": [
      "False\n"
     ]
    }
   ],
   "source": [
    "print(btn[3].is_selected())"
   ]
  },
  {
   "cell_type": "code",
   "execution_count": 20,
   "metadata": {},
   "outputs": [
    {
     "data": {
      "text/plain": [
       "[<selenium.webdriver.remote.webelement.WebElement (session=\"3c9cf5f168f13fa2c2c05de4bbefaf06\", element=\"f6798bf9-a1a3-4a67-abb6-3dc6601256f3\")>,\n",
       " <selenium.webdriver.remote.webelement.WebElement (session=\"3c9cf5f168f13fa2c2c05de4bbefaf06\", element=\"3e8bdedb-f638-436b-8997-b31798d0d489\")>]"
      ]
     },
     "execution_count": 20,
     "metadata": {},
     "output_type": "execute_result"
    }
   ],
   "source": [
    "## CheckBoxes\n",
    "\n",
    "driver.get('https://demoqa.com/automation-practice-form/')\n",
    "checkboxes = driver.find_elements_by_name('profession')\n",
    "# print(btn.get_attribute('outerHTML'))\n",
    "checkboxes"
   ]
  },
  {
   "cell_type": "code",
   "execution_count": 21,
   "metadata": {},
   "outputs": [],
   "source": [
    "for i in checkboxes:\n",
    "    if i.get_attribute('value') == 'Automation Tester':\n",
    "        i.click()"
   ]
  },
  {
   "cell_type": "code",
   "execution_count": 23,
   "metadata": {},
   "outputs": [],
   "source": [
    "# Deselect\n",
    "\n",
    "for i in checkboxes:\n",
    "    if i.is_selected():\n",
    "        i.click()"
   ]
  },
  {
   "cell_type": "code",
   "execution_count": 24,
   "metadata": {},
   "outputs": [
    {
     "data": {
      "text/plain": [
       "<selenium.webdriver.remote.webelement.WebElement (session=\"3c9cf5f168f13fa2c2c05de4bbefaf06\", element=\"906148ae-a2b8-45bb-b69e-53f3d4fa627b\")>"
      ]
     },
     "execution_count": 24,
     "metadata": {},
     "output_type": "execute_result"
    }
   ],
   "source": [
    "# Dropdown Elements\n",
    "# locate the drop down element\n",
    "# locate desire option \n",
    "# make selection\n",
    "\n",
    "driver.get('https://demoqa.com/automation-practice-form/')\n",
    "drp_dwn = driver.find_element_by_id('continents')\n",
    "drp_dwn"
   ]
  },
  {
   "cell_type": "code",
   "execution_count": 26,
   "metadata": {},
   "outputs": [
    {
     "data": {
      "text/plain": [
       "[<selenium.webdriver.remote.webelement.WebElement (session=\"3c9cf5f168f13fa2c2c05de4bbefaf06\", element=\"a0774b0b-24d9-4e84-b623-a0fb2a2bcd20\")>,\n",
       " <selenium.webdriver.remote.webelement.WebElement (session=\"3c9cf5f168f13fa2c2c05de4bbefaf06\", element=\"437cdbac-6841-4509-b739-a8115f2db18e\")>,\n",
       " <selenium.webdriver.remote.webelement.WebElement (session=\"3c9cf5f168f13fa2c2c05de4bbefaf06\", element=\"877881b5-dbd5-4030-885f-25c0cede4449\")>,\n",
       " <selenium.webdriver.remote.webelement.WebElement (session=\"3c9cf5f168f13fa2c2c05de4bbefaf06\", element=\"d350e7e9-0426-489f-a841-6b38d7973c3b\")>,\n",
       " <selenium.webdriver.remote.webelement.WebElement (session=\"3c9cf5f168f13fa2c2c05de4bbefaf06\", element=\"1c2a9864-73d2-4a1b-97f6-78806647d7f1\")>,\n",
       " <selenium.webdriver.remote.webelement.WebElement (session=\"3c9cf5f168f13fa2c2c05de4bbefaf06\", element=\"ed046ba1-436f-4937-af8a-61fec91f1325\")>,\n",
       " <selenium.webdriver.remote.webelement.WebElement (session=\"3c9cf5f168f13fa2c2c05de4bbefaf06\", element=\"91b32df8-ad2c-4526-8c9b-865486311791\")>]"
      ]
     },
     "execution_count": 26,
     "metadata": {},
     "output_type": "execute_result"
    }
   ],
   "source": [
    "from selenium.webdriver.support.select import Select\n",
    "select = Select(drp_dwn)\n",
    "select.options # list down all the options"
   ]
  },
  {
   "cell_type": "code",
   "execution_count": 29,
   "metadata": {},
   "outputs": [
    {
     "data": {
      "text/plain": [
       "'<option value=\"AS\">Asia</option>'"
      ]
     },
     "execution_count": 29,
     "metadata": {},
     "output_type": "execute_result"
    }
   ],
   "source": [
    "select.first_selected_option.get_attribute('outerHTML')"
   ]
  },
  {
   "cell_type": "code",
   "execution_count": 30,
   "metadata": {},
   "outputs": [
    {
     "data": {
      "text/plain": [
       "[<selenium.webdriver.remote.webelement.WebElement (session=\"3c9cf5f168f13fa2c2c05de4bbefaf06\", element=\"a0774b0b-24d9-4e84-b623-a0fb2a2bcd20\")>]"
      ]
     },
     "execution_count": 30,
     "metadata": {},
     "output_type": "execute_result"
    }
   ],
   "source": [
    "select.all_selected_options # list down all the select rop down. "
   ]
  },
  {
   "cell_type": "code",
   "execution_count": 34,
   "metadata": {},
   "outputs": [],
   "source": [
    "select.select_by_visible_text('Australia') #  UI text"
   ]
  },
  {
   "cell_type": "code",
   "execution_count": 32,
   "metadata": {},
   "outputs": [],
   "source": [
    "select.select_by_index(1) # indexing"
   ]
  },
  {
   "cell_type": "code",
   "execution_count": null,
   "metadata": {},
   "outputs": [],
   "source": [
    "select.select_by_value('Australia') # if not present then throws exception \n"
   ]
  },
  {
   "cell_type": "code",
   "execution_count": 35,
   "metadata": {},
   "outputs": [
    {
     "data": {
      "text/plain": [
       "<selenium.webdriver.remote.webelement.WebElement (session=\"3c9cf5f168f13fa2c2c05de4bbefaf06\", element=\"65af287a-e10e-43dd-bbe1-7ec7c0823be9\")>"
      ]
     },
     "execution_count": 35,
     "metadata": {},
     "output_type": "execute_result"
    }
   ],
   "source": [
    "driver.get('https://demoqa.com/automation-practice-form/')\n",
    "drp_dwn = driver.find_element_by_id('selenium_commands')\n",
    "drp_dwn"
   ]
  },
  {
   "cell_type": "code",
   "execution_count": 37,
   "metadata": {},
   "outputs": [
    {
     "data": {
      "text/plain": [
       "<selenium.webdriver.support.select.Select at 0x10b752f10>"
      ]
     },
     "execution_count": 37,
     "metadata": {},
     "output_type": "execute_result"
    }
   ],
   "source": [
    "select2 = Select(drp_dwn)\n",
    "select2"
   ]
  },
  {
   "cell_type": "code",
   "execution_count": 39,
   "metadata": {},
   "outputs": [
    {
     "data": {
      "text/plain": [
       "[<selenium.webdriver.remote.webelement.WebElement (session=\"3c9cf5f168f13fa2c2c05de4bbefaf06\", element=\"3a96c7e4-74b5-4551-897c-983f74acda90\")>,\n",
       " <selenium.webdriver.remote.webelement.WebElement (session=\"3c9cf5f168f13fa2c2c05de4bbefaf06\", element=\"c49fddda-2c8d-44d0-8b2d-4c0afe3555d5\")>,\n",
       " <selenium.webdriver.remote.webelement.WebElement (session=\"3c9cf5f168f13fa2c2c05de4bbefaf06\", element=\"91b13626-a567-4197-bdc3-cea4df7d71ae\")>,\n",
       " <selenium.webdriver.remote.webelement.WebElement (session=\"3c9cf5f168f13fa2c2c05de4bbefaf06\", element=\"f386942e-6aa9-4186-85d8-787ba39cf8d1\")>,\n",
       " <selenium.webdriver.remote.webelement.WebElement (session=\"3c9cf5f168f13fa2c2c05de4bbefaf06\", element=\"bdbc734d-d374-4d07-a4d8-7b8a771298e1\")>]"
      ]
     },
     "execution_count": 39,
     "metadata": {},
     "output_type": "execute_result"
    }
   ],
   "source": [
    "select2.options"
   ]
  },
  {
   "cell_type": "code",
   "execution_count": 40,
   "metadata": {},
   "outputs": [],
   "source": [
    "select2.select_by_visible_text('Navigation Commands')\n",
    "select2.select_by_visible_text('Switch Commands')"
   ]
  },
  {
   "cell_type": "code",
   "execution_count": 41,
   "metadata": {},
   "outputs": [
    {
     "data": {
      "text/plain": [
       "[<selenium.webdriver.remote.webelement.WebElement (session=\"3c9cf5f168f13fa2c2c05de4bbefaf06\", element=\"c49fddda-2c8d-44d0-8b2d-4c0afe3555d5\")>,\n",
       " <selenium.webdriver.remote.webelement.WebElement (session=\"3c9cf5f168f13fa2c2c05de4bbefaf06\", element=\"91b13626-a567-4197-bdc3-cea4df7d71ae\")>]"
      ]
     },
     "execution_count": 41,
     "metadata": {},
     "output_type": "execute_result"
    }
   ],
   "source": [
    "select2.all_selected_options"
   ]
  }
 ],
 "metadata": {
  "kernelspec": {
   "display_name": "Python 3",
   "language": "python",
   "name": "python3"
  },
  "language_info": {
   "codemirror_mode": {
    "name": "ipython",
    "version": 3
   },
   "file_extension": ".py",
   "mimetype": "text/x-python",
   "name": "python",
   "nbconvert_exporter": "python",
   "pygments_lexer": "ipython3",
   "version": "3.7.4"
  }
 },
 "nbformat": 4,
 "nbformat_minor": 2
}
