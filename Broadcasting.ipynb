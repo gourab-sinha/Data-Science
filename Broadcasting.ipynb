{
 "cells": [
  {
   "cell_type": "code",
   "execution_count": 7,
   "metadata": {},
   "outputs": [
    {
     "name": "stdout",
     "output_type": "stream",
     "text": [
      "[[5 3 2]\n",
      " [8 8 1]\n",
      " [7 3 2]]\n",
      "[[8 2 6]\n",
      " [4 5 6]\n",
      " [2 2 2]]\n",
      "[7 8 1]\n",
      "[[-2 -5  1]\n",
      " [ 1  0  0]\n",
      " [ 0 -5  1]]\n",
      "(3, 2)\n",
      "[[ 4  0]\n",
      " [ 0  3]\n",
      " [-2 -2]]\n"
     ]
    }
   ],
   "source": [
    "import numpy as np\n",
    "# dimession is equal or one of them is 1.\n",
    "# 1. (3,2) and (3,2) True\n",
    "# 2. (3,2) and (3,3) False\n",
    "# 3. (3,3) and (1,3) True\n",
    "x = np.random.randint(1,10,[3,3])\n",
    "y = np.random.randint(1,10,[3,3])\n",
    "print(x)\n",
    "print(y)\n",
    "\n",
    "# [[7 3 2] - [7 2 5]\n",
    "#  [5 8 4] - [7 2 5]\n",
    "#  [6 1 4]] - [7 2 5]\n",
    "\n",
    "z = np.random.randint(1,10,3)\n",
    "print(z)\n",
    "# [7 2 5]\n",
    "\n",
    "ans = x - z\n",
    "print(ans)\n",
    "\n",
    "# Transpose\n",
    "x = np.random.randint(1,10,[3,2])\n",
    "y = np.random.randint(1,10,[2,3])\n",
    "y = np.transpose(y)\n",
    "print(y.shape)\n",
    "ans = x - y\n",
    "print(ans)"
   ]
  },
  {
   "cell_type": "code",
   "execution_count": 20,
   "metadata": {},
   "outputs": [
    {
     "name": "stdout",
     "output_type": "stream",
     "text": [
      "[[0 1]\n",
      " [2 3]]\n",
      "[[0 1 2]\n",
      " [3 0 1]]\n",
      "[[0 1 2 3]]\n",
      "[[0 0]\n",
      " [0 0]\n",
      " [0 0]\n",
      " [0 0]\n",
      " [0 0]\n",
      " [0 0]\n",
      " [0 0]\n",
      " [0 0]\n",
      " [0 0]\n",
      " [0 0]]\n",
      "[[0 0 0 0 0 0 0 0 0 0]\n",
      " [0 0 0 0 0 0 0 0 0 0]]\n",
      "[[0 0 0 0 0 0 0 0 0 0]\n",
      " [0 0 0 0 0 0 0 0 0 0]]\n"
     ]
    }
   ],
   "source": [
    "# Resize\n",
    "a=np.array([[0,1],[2,3]]) # 2x2\n",
    "print(a)\n",
    "a = np.resize(a,(2,3)) # repeats the elements if required to fill the vacant cells.\n",
    "print(a)\n",
    "a = np.resize(a,(1,4))\n",
    "print(a)\n",
    "a = np.zeros((10,2), dtype = int)\n",
    "print(a)\n",
    "new_a = np.transpose(a) # transpose\n",
    "print(new_a)\n",
    "new_a = a.T # transpose\n",
    "print(new_a)"
   ]
  },
  {
   "cell_type": "code",
   "execution_count": 21,
   "metadata": {},
   "outputs": [
    {
     "data": {
      "text/plain": [
       "array([[0, 1],\n",
       "       [2, 3],\n",
       "       [4, 5]])"
      ]
     },
     "execution_count": 21,
     "metadata": {},
     "output_type": "execute_result"
    }
   ],
   "source": [
    "# Reshape\n",
    "a = np.arange(6).reshape((3, 2))\n",
    "print(a)\n"
   ]
  }
 ],
 "metadata": {
  "kernelspec": {
   "display_name": "Python 3",
   "language": "python",
   "name": "python3"
  },
  "language_info": {
   "codemirror_mode": {
    "name": "ipython",
    "version": 3
   },
   "file_extension": ".py",
   "mimetype": "text/x-python",
   "name": "python",
   "nbconvert_exporter": "python",
   "pygments_lexer": "ipython3",
   "version": "3.7.4"
  }
 },
 "nbformat": 4,
 "nbformat_minor": 2
}
