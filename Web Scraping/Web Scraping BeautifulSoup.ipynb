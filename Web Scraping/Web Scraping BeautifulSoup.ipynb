{
 "cells": [
  {
   "cell_type": "code",
   "execution_count": 2,
   "metadata": {},
   "outputs": [],
   "source": [
    "#\n",
    "html = '''<!DOCTYPE html>\\\n",
    "<html>\\\n",
    "<head>\\\n",
    "\t<title>Testing Web Page</title>\\\n",
    "</head>\\\n",
    "<body>\\\n",
    "<h1>Web Scraping</h1>\\\n",
    "<p class = \"abc\">\\\n",
    "\tHello ! Good morning. Have a good Day !\\\n",
    "</p>\\\n",
    "\n",
    "<p id = \"def\" >\\\n",
    "\t<a href=\"https://codingninjas.in/\"> Coding Nnjas </a>\\\n",
    "</p>\\\n",
    "\n",
    "<p class = \"abc\">\\\n",
    "\thello\\\n",
    "</p>\\\n",
    "</body>\\\n",
    "</html>'''\n"
   ]
  },
  {
   "cell_type": "code",
   "execution_count": 3,
   "metadata": {},
   "outputs": [
    {
     "data": {
      "text/plain": [
       "<!DOCTYPE html>\n",
       "<html><head> <title>Testing Web Page</title></head><body><h1>Web Scraping</h1><p class=\"abc\">\tHello ! Good morning. Have a good Day !</p>\n",
       "<p id=\"def\"> <a href=\"https://codingninjas.in/\"> Coding Nnjas </a></p>\n",
       "<p class=\"abc\">\thello</p></body></html>"
      ]
     },
     "execution_count": 3,
     "metadata": {},
     "output_type": "execute_result"
    }
   ],
   "source": [
    "from bs4 import BeautifulSoup\n",
    "data = BeautifulSoup(html,'html.parser')\n",
    "data"
   ]
  },
  {
   "cell_type": "code",
   "execution_count": 7,
   "metadata": {},
   "outputs": [
    {
     "data": {
      "text/plain": [
       "bs4.BeautifulSoup"
      ]
     },
     "execution_count": 7,
     "metadata": {},
     "output_type": "execute_result"
    }
   ],
   "source": [
    "type(data)"
   ]
  },
  {
   "cell_type": "code",
   "execution_count": 8,
   "metadata": {},
   "outputs": [
    {
     "name": "stdout",
     "output_type": "stream",
     "text": [
      "<!DOCTYPE html>\n",
      "<html>\n",
      " <head>\n",
      "  <title>\n",
      "   Testing Web Page\n",
      "  </title>\n",
      " </head>\n",
      " <body>\n",
      "  <h1>\n",
      "   Web Scraping\n",
      "  </h1>\n",
      "  <p class=\"abc\">\n",
      "   Hello ! Good morning. Have a good Day !\n",
      "  </p>\n",
      "  <p id=\"def\">\n",
      "   <a href=\"https://codingninjas.in/\">\n",
      "    Coding Nnjas\n",
      "   </a>\n",
      "  </p>\n",
      "  <p class=\"abc\">\n",
      "   hello\n",
      "  </p>\n",
      " </body>\n",
      "</html>\n"
     ]
    }
   ],
   "source": [
    "print(data.prettify())"
   ]
  },
  {
   "cell_type": "code",
   "execution_count": 10,
   "metadata": {},
   "outputs": [
    {
     "data": {
      "text/plain": [
       "<title>Testing Web Page</title>"
      ]
     },
     "execution_count": 10,
     "metadata": {},
     "output_type": "execute_result"
    }
   ],
   "source": [
    "data.title"
   ]
  },
  {
   "cell_type": "code",
   "execution_count": 11,
   "metadata": {},
   "outputs": [
    {
     "data": {
      "text/plain": [
       "<head> <title>Testing Web Page</title></head>"
      ]
     },
     "execution_count": 11,
     "metadata": {},
     "output_type": "execute_result"
    }
   ],
   "source": [
    "data.head"
   ]
  },
  {
   "cell_type": "code",
   "execution_count": 13,
   "metadata": {},
   "outputs": [
    {
     "data": {
      "text/plain": [
       "<p class=\"abc\">\tHello ! Good morning. Have a good Day !</p>"
      ]
     },
     "execution_count": 13,
     "metadata": {},
     "output_type": "execute_result"
    }
   ],
   "source": [
    "data.p # only first tag"
   ]
  },
  {
   "cell_type": "code",
   "execution_count": 15,
   "metadata": {},
   "outputs": [
    {
     "data": {
      "text/plain": [
       "'Testing Web Page'"
      ]
     },
     "execution_count": 15,
     "metadata": {},
     "output_type": "execute_result"
    }
   ],
   "source": [
    "data.title.name # name of the tag\n",
    "data.title.string # the string present inside the tag"
   ]
  },
  {
   "cell_type": "code",
   "execution_count": 17,
   "metadata": {},
   "outputs": [
    {
     "data": {
      "text/plain": [
       "{'class': ['abc']}"
      ]
     },
     "execution_count": 17,
     "metadata": {},
     "output_type": "execute_result"
    }
   ],
   "source": [
    "data.p.attrs # get the attributes of a tag"
   ]
  },
  {
   "cell_type": "code",
   "execution_count": 20,
   "metadata": {},
   "outputs": [
    {
     "data": {
      "text/plain": [
       "['abc']"
      ]
     },
     "execution_count": 20,
     "metadata": {},
     "output_type": "execute_result"
    }
   ],
   "source": [
    "data.p['class']"
   ]
  },
  {
   "cell_type": "code",
   "execution_count": 22,
   "metadata": {},
   "outputs": [
    {
     "data": {
      "text/plain": [
       "' Testing Web PageWeb Scraping\\tHello ! Good morning. Have a good Day !\\n  Coding Nnjas \\n\\thello'"
      ]
     },
     "execution_count": 22,
     "metadata": {},
     "output_type": "execute_result"
    }
   ],
   "source": [
    "data.get_text() # all the text present on the webpage"
   ]
  },
  {
   "cell_type": "code",
   "execution_count": 24,
   "metadata": {},
   "outputs": [
    {
     "data": {
      "text/plain": [
       "<p class=\"abc\">\tHello ! Good morning. Have a good Day !</p>"
      ]
     },
     "execution_count": 24,
     "metadata": {},
     "output_type": "execute_result"
    }
   ],
   "source": [
    "data.find('p') # first occurrence."
   ]
  },
  {
   "cell_type": "code",
   "execution_count": 26,
   "metadata": {},
   "outputs": [
    {
     "data": {
      "text/plain": [
       "[<p class=\"abc\">\tHello ! Good morning. Have a good Day !</p>,\n",
       " <p id=\"def\"> <a href=\"https://codingninjas.in/\"> Coding Nnjas </a></p>,\n",
       " <p class=\"abc\">\thello</p>]"
      ]
     },
     "execution_count": 26,
     "metadata": {},
     "output_type": "execute_result"
    }
   ],
   "source": [
    "data.find_all('p')"
   ]
  },
  {
   "cell_type": "code",
   "execution_count": 28,
   "metadata": {},
   "outputs": [
    {
     "data": {
      "text/plain": [
       "[<p class=\"abc\">\tHello ! Good morning. Have a good Day !</p>,\n",
       " <p id=\"def\"> <a href=\"https://codingninjas.in/\"> Coding Nnjas </a></p>,\n",
       " <a href=\"https://codingninjas.in/\"> Coding Nnjas </a>,\n",
       " <p class=\"abc\">\thello</p>]"
      ]
     },
     "execution_count": 28,
     "metadata": {},
     "output_type": "execute_result"
    }
   ],
   "source": [
    "data.find_all(['p','a']) # only those passed tag"
   ]
  },
  {
   "cell_type": "code",
   "execution_count": 30,
   "metadata": {},
   "outputs": [
    {
     "data": {
      "text/plain": [
       "[<html><head> <title>Testing Web Page</title></head><body><h1>Web Scraping</h1><p class=\"abc\">\tHello ! Good morning. Have a good Day !</p>\n",
       " <p id=\"def\"> <a href=\"https://codingninjas.in/\"> Coding Nnjas </a></p>\n",
       " <p class=\"abc\">\thello</p></body></html>,\n",
       " <head> <title>Testing Web Page</title></head>,\n",
       " <title>Testing Web Page</title>,\n",
       " <body><h1>Web Scraping</h1><p class=\"abc\">\tHello ! Good morning. Have a good Day !</p>\n",
       " <p id=\"def\"> <a href=\"https://codingninjas.in/\"> Coding Nnjas </a></p>\n",
       " <p class=\"abc\">\thello</p></body>,\n",
       " <h1>Web Scraping</h1>,\n",
       " <p class=\"abc\">\tHello ! Good morning. Have a good Day !</p>,\n",
       " <p id=\"def\"> <a href=\"https://codingninjas.in/\"> Coding Nnjas </a></p>,\n",
       " <a href=\"https://codingninjas.in/\"> Coding Nnjas </a>,\n",
       " <p class=\"abc\">\thello</p>]"
      ]
     },
     "execution_count": 30,
     "metadata": {},
     "output_type": "execute_result"
    }
   ],
   "source": [
    "data.find_all(True) # all tags"
   ]
  },
  {
   "cell_type": "code",
   "execution_count": 32,
   "metadata": {},
   "outputs": [
    {
     "data": {
      "text/plain": [
       "[<p id=\"def\"> <a href=\"https://codingninjas.in/\"> Coding Nnjas </a></p>]"
      ]
     },
     "execution_count": 32,
     "metadata": {},
     "output_type": "execute_result"
    }
   ],
   "source": [
    "data.find_all(id = 'def') # only that id"
   ]
  },
  {
   "cell_type": "code",
   "execution_count": 35,
   "metadata": {},
   "outputs": [
    {
     "data": {
      "text/plain": [
       "[<p class=\"abc\">\tHello ! Good morning. Have a good Day !</p>,\n",
       " <p class=\"abc\">\thello</p>]"
      ]
     },
     "execution_count": 35,
     "metadata": {},
     "output_type": "execute_result"
    }
   ],
   "source": [
    "data.find_all(class_ = 'abc') # class with the provided name"
   ]
  },
  {
   "cell_type": "code",
   "execution_count": 37,
   "metadata": {},
   "outputs": [],
   "source": [
    "#  data.select() # css selectors. "
   ]
  },
  {
   "cell_type": "code",
   "execution_count": 38,
   "metadata": {},
   "outputs": [
    {
     "data": {
      "text/plain": [
       "'Testing Web Page'"
      ]
     },
     "execution_count": 38,
     "metadata": {},
     "output_type": "execute_result"
    }
   ],
   "source": [
    "data.head.title.string # Going Down"
   ]
  },
  {
   "cell_type": "code",
   "execution_count": 40,
   "metadata": {},
   "outputs": [
    {
     "name": "stdout",
     "output_type": "stream",
     "text": [
      "['Hello ! Good morning. Have a good Day !']\n",
      "['Coding Nnjas']\n",
      "['hello']\n"
     ]
    }
   ],
   "source": [
    "li  = data.find_all('p')\n",
    "for i in li:\n",
    "    print(list(i.stripped_strings))"
   ]
  },
  {
   "cell_type": "code",
   "execution_count": 42,
   "metadata": {},
   "outputs": [
    {
     "name": "stdout",
     "output_type": "stream",
     "text": [
      "2\n",
      "[<head> <title>Testing Web Page</title></head>, <body><h1>Web Scraping</h1><p class=\"abc\">\tHello ! Good morning. Have a good Day !</p>\n",
      "<p id=\"def\"> <a href=\"https://codingninjas.in/\"> Coding Nnjas </a></p>\n",
      "<p class=\"abc\">\thello</p></body>]\n"
     ]
    }
   ],
   "source": [
    "li = data.html.contents # all the children as a list\n",
    "print(len(li))\n",
    "print(li)"
   ]
  },
  {
   "cell_type": "code",
   "execution_count": 44,
   "metadata": {},
   "outputs": [
    {
     "name": "stdout",
     "output_type": "stream",
     "text": [
      "<head> <title>Testing Web Page</title></head>\n",
      "<body><h1>Web Scraping</h1><p class=\"abc\">\tHello ! Good morning. Have a good Day !</p>\n",
      "<p id=\"def\"> <a href=\"https://codingninjas.in/\"> Coding Nnjas </a></p>\n",
      "<p class=\"abc\">\thello</p></body>\n"
     ]
    }
   ],
   "source": [
    "li_2 = data.html.children # iterator on which we need to iterate to get the children\n",
    "for i in li_2:\n",
    "    print(i)"
   ]
  },
  {
   "cell_type": "code",
   "execution_count": 47,
   "metadata": {},
   "outputs": [
    {
     "name": "stdout",
     "output_type": "stream",
     "text": [
      "17\n"
     ]
    },
    {
     "data": {
      "text/plain": [
       "[<head> <title>Testing Web Page</title></head>,\n",
       " ' ',\n",
       " <title>Testing Web Page</title>,\n",
       " 'Testing Web Page',\n",
       " <body><h1>Web Scraping</h1><p class=\"abc\">\tHello ! Good morning. Have a good Day !</p>\n",
       " <p id=\"def\"> <a href=\"https://codingninjas.in/\"> Coding Nnjas </a></p>\n",
       " <p class=\"abc\">\thello</p></body>,\n",
       " <h1>Web Scraping</h1>,\n",
       " 'Web Scraping',\n",
       " <p class=\"abc\">\tHello ! Good morning. Have a good Day !</p>,\n",
       " '\\tHello ! Good morning. Have a good Day !',\n",
       " '\\n',\n",
       " <p id=\"def\"> <a href=\"https://codingninjas.in/\"> Coding Nnjas </a></p>,\n",
       " ' ',\n",
       " <a href=\"https://codingninjas.in/\"> Coding Nnjas </a>,\n",
       " ' Coding Nnjas ',\n",
       " '\\n',\n",
       " <p class=\"abc\">\thello</p>,\n",
       " '\\thello']"
      ]
     },
     "execution_count": 47,
     "metadata": {},
     "output_type": "execute_result"
    }
   ],
   "source": [
    "desc = list(data.html.descendants)\n",
    "print(len(desc))\n",
    "desc\n"
   ]
  },
  {
   "cell_type": "code",
   "execution_count": 52,
   "metadata": {},
   "outputs": [
    {
     "data": {
      "text/plain": [
       "[' ', <title>Testing Web Page</title>]"
      ]
     },
     "execution_count": 52,
     "metadata": {},
     "output_type": "execute_result"
    }
   ],
   "source": [
    "list(data.title.parent) # returns immediate parent"
   ]
  },
  {
   "cell_type": "code",
   "execution_count": 4,
   "metadata": {},
   "outputs": [
    {
     "data": {
      "text/plain": [
       "[<head> <title>Testing Web Page</title></head>,\n",
       " <html><head> <title>Testing Web Page</title></head><body><h1>Web Scraping</h1><p class=\"abc\">\tHello ! Good morning. Have a good Day !</p>\n",
       " <p id=\"def\"> <a href=\"https://codingninjas.in/\"> Coding Nnjas </a></p>\n",
       " <p class=\"abc\">\thello</p></body></html>,\n",
       " <!DOCTYPE html>\n",
       " <html><head> <title>Testing Web Page</title></head><body><h1>Web Scraping</h1><p class=\"abc\">\tHello ! Good morning. Have a good Day !</p>\n",
       " <p id=\"def\"> <a href=\"https://codingninjas.in/\"> Coding Nnjas </a></p>\n",
       " <p class=\"abc\">\thello</p></body></html>]"
      ]
     },
     "execution_count": 4,
     "metadata": {},
     "output_type": "execute_result"
    }
   ],
   "source": [
    "list(data.title.parents) # returns all the parent of parents"
   ]
  },
  {
   "cell_type": "code",
   "execution_count": 9,
   "metadata": {},
   "outputs": [
    {
     "data": {
      "text/plain": [
       "{'Date': 'Sun, 01 Mar 2020 10:27:02 GMT', 'Server': 'Apache', 'Last-Modified': 'Thu, 03 Dec 1992 08:37:20 GMT', 'ETag': '\"40521e06-8a9-291e721905000\"', 'Accept-Ranges': 'bytes', 'Content-Length': '2217', 'Connection': 'close', 'Content-Type': 'text/html'}"
      ]
     },
     "execution_count": 9,
     "metadata": {},
     "output_type": "execute_result"
    }
   ],
   "source": [
    "import requests\n",
    "response = requests.get('http://info.cern.ch/hypertext/WWW/TheProject.html')\n",
    "response.headers"
   ]
  },
  {
   "cell_type": "code",
   "execution_count": 14,
   "metadata": {},
   "outputs": [
    {
     "name": "stdout",
     "output_type": "stream",
     "text": [
      "<header>\n",
      " <title>\n",
      "  The World Wide Web project\n",
      " </title>\n",
      " <nextid n=\"55\"/>\n",
      "</header>\n",
      "<body>\n",
      " <h1>\n",
      "  World Wide Web\n",
      " </h1>\n",
      " The WorldWideWeb (W3) is a wide-area\n",
      " <a href=\"WhatIs.html\" name=\"0\">\n",
      "  hypermedia\n",
      " </a>\n",
      " information retrieval\n",
      "initiative aiming to give universal\n",
      "access to a large universe of documents.\n",
      " <p>\n",
      "  Everything there is online about\n",
      "W3 is linked directly or indirectly\n",
      "to this document, including an\n",
      "  <a href=\"Summary.html\" name=\"24\">\n",
      "   executive\n",
      "summary\n",
      "  </a>\n",
      "  of the project,\n",
      "  <a href=\"Administration/Mailing/Overview.html\" name=\"29\">\n",
      "   Mailing lists\n",
      "  </a>\n",
      "  ,\n",
      "  <a href=\"Policy.html\" name=\"30\">\n",
      "   Policy\n",
      "  </a>\n",
      "  , November's\n",
      "  <a href=\"News/9211.html\" name=\"34\">\n",
      "   W3  news\n",
      "  </a>\n",
      "  ,\n",
      "  <a href=\"FAQ/List.html\" name=\"41\">\n",
      "   Frequently Asked Questions\n",
      "  </a>\n",
      "  .\n",
      "  <dl>\n",
      "   <dt>\n",
      "    <a href=\"../DataSources/Top.html\" name=\"44\">\n",
      "     What's out there?\n",
      "    </a>\n",
      "    <dd>\n",
      "     Pointers to the\n",
      "world's online information,\n",
      "     <a href=\"../DataSources/bySubject/Overview.html\" name=\"45\">\n",
      "      subjects\n",
      "     </a>\n",
      "     ,\n",
      "     <a href=\"../DataSources/WWW/Servers.html\" name=\"z54\">\n",
      "      W3 servers\n",
      "     </a>\n",
      "     , etc.\n",
      "     <dt>\n",
      "      <a href=\"Help.html\" name=\"46\">\n",
      "       Help\n",
      "      </a>\n",
      "      <dd>\n",
      "       on the browser you are using\n",
      "       <dt>\n",
      "        <a href=\"Status.html\" name=\"13\">\n",
      "         Software Products\n",
      "        </a>\n",
      "        <dd>\n",
      "         A list of W3 project\n",
      "components and their current state.\n",
      "(e.g.\n",
      "         <a href=\"LineMode/Browser.html\" name=\"27\">\n",
      "          Line Mode\n",
      "         </a>\n",
      "         ,X11\n",
      "         <a href=\"Status.html#35\" name=\"35\">\n",
      "          Viola\n",
      "         </a>\n",
      "         ,\n",
      "         <a href=\"NeXT/WorldWideWeb.html\" name=\"26\">\n",
      "          NeXTStep\n",
      "         </a>\n",
      "         ,\n",
      "         <a href=\"Daemon/Overview.html\" name=\"25\">\n",
      "          Servers\n",
      "         </a>\n",
      "         ,\n",
      "         <a href=\"Tools/Overview.html\" name=\"51\">\n",
      "          Tools\n",
      "         </a>\n",
      "         ,\n",
      "         <a href=\"MailRobot/Overview.html\" name=\"53\">\n",
      "          Mail robot\n",
      "         </a>\n",
      "         ,\n",
      "         <a href=\"Status.html#57\" name=\"52\">\n",
      "          Library\n",
      "         </a>\n",
      "         )\n",
      "         <dt>\n",
      "          <a href=\"Technical.html\" name=\"47\">\n",
      "           Technical\n",
      "          </a>\n",
      "          <dd>\n",
      "           Details of protocols, formats,\n",
      "program internals etc\n",
      "           <dt>\n",
      "            <a href=\"Bibliography.html\" name=\"40\">\n",
      "             Bibliography\n",
      "            </a>\n",
      "            <dd>\n",
      "             Paper documentation\n",
      "on  W3 and references.\n",
      "             <dt>\n",
      "              <a href=\"People.html\" name=\"14\">\n",
      "               People\n",
      "              </a>\n",
      "              <dd>\n",
      "               A list of some people involved\n",
      "in the project.\n",
      "               <dt>\n",
      "                <a href=\"History.html\" name=\"15\">\n",
      "                 History\n",
      "                </a>\n",
      "                <dd>\n",
      "                 A summary of the history\n",
      "of the project.\n",
      "                 <dt>\n",
      "                  <a href=\"Helping.html\" name=\"37\">\n",
      "                   How can I help\n",
      "                  </a>\n",
      "                  ?\n",
      "                  <dd>\n",
      "                   If you would like\n",
      "to support the web..\n",
      "                   <dt>\n",
      "                    <a href=\"../README.html\" name=\"48\">\n",
      "                     Getting code\n",
      "                    </a>\n",
      "                    <dd>\n",
      "                     Getting the code by\n",
      "                     <a href=\"LineMode/Defaults/Distribution.html\" name=\"49\">\n",
      "                      anonymous FTP\n",
      "                     </a>\n",
      "                     , etc.\n",
      "                    </dd>\n",
      "                   </dt>\n",
      "                  </dd>\n",
      "                 </dt>\n",
      "                </dd>\n",
      "               </dt>\n",
      "              </dd>\n",
      "             </dt>\n",
      "            </dd>\n",
      "           </dt>\n",
      "          </dd>\n",
      "         </dt>\n",
      "        </dd>\n",
      "       </dt>\n",
      "      </dd>\n",
      "     </dt>\n",
      "    </dd>\n",
      "   </dt>\n",
      "  </dl>\n",
      " </p>\n",
      "</body>\n",
      "\n"
     ]
    }
   ],
   "source": [
    "html = response.text\n",
    "data = BeautifulSoup(html,'html.parser') # parse the html\n",
    "print(data.prettify()) # HTML way of showing. "
   ]
  },
  {
   "cell_type": "code",
   "execution_count": 16,
   "metadata": {},
   "outputs": [
    {
     "data": {
      "text/plain": [
       "'World Wide Web'"
      ]
     },
     "execution_count": 16,
     "metadata": {},
     "output_type": "execute_result"
    }
   ],
   "source": [
    "data.h1.string"
   ]
  },
  {
   "cell_type": "code",
   "execution_count": 18,
   "metadata": {},
   "outputs": [
    {
     "data": {
      "text/plain": [
       "<title>The World Wide Web project</title>"
      ]
     },
     "execution_count": 18,
     "metadata": {},
     "output_type": "execute_result"
    }
   ],
   "source": [
    "data.title"
   ]
  },
  {
   "cell_type": "code",
   "execution_count": 21,
   "metadata": {},
   "outputs": [
    {
     "name": "stdout",
     "output_type": "stream",
     "text": [
      "\n",
      "The World Wide Web project\n",
      "\n",
      "\n",
      "\n",
      "World Wide WebThe WorldWideWeb (W3) is a wide-area\n",
      "hypermedia information retrieval\n",
      "initiative aiming to give universal\n",
      "access to a large universe of documents.\n",
      "Everything there is online about\n",
      "W3 is linked directly or indirectly\n",
      "to this document, including an executive\n",
      "summary of the project, Mailing lists\n",
      ", Policy , November's  W3  news ,\n",
      "Frequently Asked Questions .\n",
      "\n",
      "What's out there?\n",
      " Pointers to the\n",
      "world's online information, subjects\n",
      ", W3 servers, etc.\n",
      "Help\n",
      " on the browser you are using\n",
      "Software Products\n",
      " A list of W3 project\n",
      "components and their current state.\n",
      "(e.g. Line Mode ,X11 Viola ,  NeXTStep\n",
      ", Servers , Tools , Mail robot ,\n",
      "Library )\n",
      "Technical\n",
      " Details of protocols, formats,\n",
      "program internals etc\n",
      "Bibliography\n",
      " Paper documentation\n",
      "on  W3 and references.\n",
      "People\n",
      " A list of some people involved\n",
      "in the project.\n",
      "History\n",
      " A summary of the history\n",
      "of the project.\n",
      "How can I help ?\n",
      " If you would like\n",
      "to support the web..\n",
      "Getting code\n",
      " Getting the code by\n",
      "anonymous FTP , etc.\n",
      "\n",
      "\n",
      "\n"
     ]
    }
   ],
   "source": [
    "print(data.get_text()) # Complete text to get the content"
   ]
  },
  {
   "cell_type": "code",
   "execution_count": 23,
   "metadata": {},
   "outputs": [
    {
     "data": {
      "text/plain": [
       "'WhatIs.html'"
      ]
     },
     "execution_count": 23,
     "metadata": {},
     "output_type": "execute_result"
    }
   ],
   "source": [
    "data.a['href']"
   ]
  },
  {
   "cell_type": "code",
   "execution_count": 27,
   "metadata": {},
   "outputs": [
    {
     "name": "stdout",
     "output_type": "stream",
     "text": [
      "25\n",
      "\n",
      "hypermedia\n",
      "executive\n",
      "summary\n",
      "Mailing lists\n",
      "Policy\n",
      "W3  news\n",
      "Frequently Asked Questions\n",
      "What's out there?\n",
      " subjects\n",
      "W3 servers\n",
      "Help\n",
      "Software Products\n",
      "Line Mode\n",
      "Viola\n",
      "NeXTStep\n",
      "Servers\n",
      "Tools\n",
      " Mail robot\n",
      "\n",
      "Library\n",
      "Technical\n",
      "Bibliography\n",
      "People\n",
      "History\n",
      "How can I help\n",
      "Getting code\n",
      "\n",
      "anonymous FTP\n"
     ]
    }
   ],
   "source": [
    "a_li = data.find_all('a')\n",
    "print(len(a_li))\n",
    "for i in a_li:\n",
    "    print(i.string)"
   ]
  },
  {
   "cell_type": "code",
   "execution_count": 31,
   "metadata": {},
   "outputs": [
    {
     "name": "stdout",
     "output_type": "stream",
     "text": [
      "19\n",
      "What's out there?\n",
      " subjects\n",
      "W3 servers\n",
      "Help\n",
      "Software Products\n",
      "Line Mode\n",
      "Viola\n",
      "NeXTStep\n",
      "Servers\n",
      "Tools\n",
      " Mail robot\n",
      "\n",
      "Library\n",
      "Technical\n",
      "Bibliography\n",
      "People\n",
      "History\n",
      "How can I help\n",
      "Getting code\n",
      "\n",
      "anonymous FTP\n"
     ]
    }
   ],
   "source": [
    "li_2 = data.dl.find_all('a')\n",
    "print(len(li_2))\n",
    "for i in li_2:\n",
    "    print(i.string)"
   ]
  },
  {
   "cell_type": "code",
   "execution_count": 36,
   "metadata": {},
   "outputs": [
    {
     "name": "stdout",
     "output_type": "stream",
     "text": [
      "9\n",
      "What's out there?\n",
      "Help\n",
      "Software Products\n",
      "Technical\n",
      "Bibliography\n",
      "People\n",
      "History\n",
      "How can I help\n",
      "Getting code\n"
     ]
    }
   ],
   "source": [
    "li_3 = data.dl.find_all('dt')\n",
    "print(len(li_3))\n",
    "for i in li_3:\n",
    "    print(i.a.string)"
   ]
  },
  {
   "cell_type": "code",
   "execution_count": 39,
   "metadata": {},
   "outputs": [
    {
     "data": {
      "text/plain": [
       "{'Server': 'nginx/1.14.0 (Ubuntu)', 'Date': 'Sun, 01 Mar 2020 10:38:28 GMT', 'Content-Type': 'text/html', 'Transfer-Encoding': 'chunked', 'Connection': 'keep-alive', 'Last-Modified': 'Wed, 29 Jun 2016 21:39:03 GMT', 'X-Upstream': 'toscrape-books-master_web', 'Content-Encoding': 'gzip'}"
      ]
     },
     "execution_count": 39,
     "metadata": {},
     "output_type": "execute_result"
    }
   ],
   "source": [
    "response = requests.get('http://books.toscrape.com/')\n",
    "response.status_code\n",
    "response.headers"
   ]
  },
  {
   "cell_type": "code",
   "execution_count": 43,
   "metadata": {},
   "outputs": [
    {
     "data": {
      "text/plain": [
       "'<!DOCTYPE html>\\n<!--[if lt IE 7]>      <html lang=\"en-us\" class=\"no-js lt-ie9 lt-ie8 lt-ie7\"> <![endif]-->\\n<!--[if IE 7]>         <html lang=\"en-us\" class=\"no-js lt-ie9 lt-ie8\"> <![endif]-->\\n<!--[if IE 8]>         <html lang=\"en-us\" class=\"no-js lt-ie9\"> <![endif]-->\\n<!--[if gt IE 8]><!-->\\n<html class=\"no-js\" lang=\"en-us\">\\n <!--<![endif]-->\\n <head>\\n  <title>\\n   All products | Books to Scrape - Sandbox\\n  </title>\\n  <meta content=\"text/html; charset=utf-8\" http-equiv=\"content-type\"/>\\n  <meta content=\"24th Jun 2016 09:29\" name=\"created\"/>\\n  <meta content=\"\" name=\"description\"/>\\n  <meta content=\"width=device-width\" name=\"viewport\"/>\\n  <meta content=\"NOARCHIVE,NOCACHE\" name=\"robots\"/>\\n  <!-- Le HTML5 shim, for IE6-8 support of HTML elements -->\\n  <!--[if lt IE 9]>\\n        <script src=\"//html5shim.googlecode.com/svn/trunk/html5.js\"></script>\\n        <![endif]-->\\n  <link href=\"static/oscar/favicon.ico\" rel=\"shortcut icon\"/>\\n  <link href=\"static/oscar/css/styles.css\" rel=\"stylesheet\" type=\"text/css\"/>\\n  <link href=\"static/oscar/js/bootstrap-datetimepicker/bootstrap-datetimepicker.css\" rel=\"stylesheet\"/>\\n  <link href=\"static/oscar/css/datetimepicker.css\" rel=\"stylesheet\" type=\"text/css\"/>\\n </head>\\n <body class=\"default\" id=\"default\">\\n  <header class=\"header container-fluid\">\\n   <div class=\"page_inner\">\\n    <div class=\"row\">\\n     <div class=\"col-sm-8 h1\">\\n      <a href=\"index.html\">\\n       Books to Scrape\\n      </a>\\n      <small>\\n       We love being scraped!\\n      </small>\\n     </div>\\n    </div>\\n   </div>\\n  </header>\\n  <div class=\"container-fluid page\">\\n   <div class=\"page_inner\">\\n    <ul class=\"breadcrumb\">\\n     <li>\\n      <a href=\"index.html\">\\n       Home\\n      </a>\\n     </li>\\n     <li class=\"active\">\\n      All products\\n     </li>\\n    </ul>\\n    <div class=\"row\">\\n     <aside class=\"sidebar col-sm-4 col-md-3\">\\n      <div id=\"promotions_left\">\\n      </div>\\n      <div class=\"side_categories\">\\n       <ul class=\"nav nav-list\">\\n        <li>\\n         <a href=\"catalogue/category/books_1/index.html\">\\n          Books\\n         </a>\\n         <ul>\\n          <li>\\n           <a href=\"catalogue/category/books/travel_2/index.html\">\\n            Travel\\n           </a>\\n          </li>\\n          <li>\\n           <a href=\"catalogue/category/books/mystery_3/index.html\">\\n            Mystery\\n           </a>\\n          </li>\\n          <li>\\n           <a href=\"catalogue/category/books/historical-fiction_4/index.html\">\\n            Historical Fiction\\n           </a>\\n          </li>\\n          <li>\\n           <a href=\"catalogue/category/books/sequential-art_5/index.html\">\\n            Sequential Art\\n           </a>\\n          </li>\\n          <li>\\n           <a href=\"catalogue/category/books/classics_6/index.html\">\\n            Classics\\n           </a>\\n          </li>\\n          <li>\\n           <a href=\"catalogue/category/books/philosophy_7/index.html\">\\n            Philosophy\\n           </a>\\n          </li>\\n          <li>\\n           <a href=\"catalogue/category/books/romance_8/index.html\">\\n            Romance\\n           </a>\\n          </li>\\n          <li>\\n           <a href=\"catalogue/category/books/womens-fiction_9/index.html\">\\n            Womens Fiction\\n           </a>\\n          </li>\\n          <li>\\n           <a href=\"catalogue/category/books/fiction_10/index.html\">\\n            Fiction\\n           </a>\\n          </li>\\n          <li>\\n           <a href=\"catalogue/category/books/childrens_11/index.html\">\\n            Childrens\\n           </a>\\n          </li>\\n          <li>\\n           <a href=\"catalogue/category/books/religion_12/index.html\">\\n            Religion\\n           </a>\\n          </li>\\n          <li>\\n           <a href=\"catalogue/category/books/nonfiction_13/index.html\">\\n            Nonfiction\\n           </a>\\n          </li>\\n          <li>\\n           <a href=\"catalogue/category/books/music_14/index.html\">\\n            Music\\n           </a>\\n          </li>\\n          <li>\\n           <a href=\"catalogue/category/books/default_15/index.html\">\\n            Default\\n           </a>\\n          </li>\\n          <li>\\n           <a href=\"catalogue/category/books/science-fiction_16/index.html\">\\n            Science Fiction\\n           </a>\\n          </li>\\n          <li>\\n           <a href=\"catalogue/category/books/sports-and-games_17/index.html\">\\n            Sports and Games\\n           </a>\\n          </li>\\n          <li>\\n           <a href=\"catalogue/category/books/add-a-comment_18/index.html\">\\n            Add a comment\\n           </a>\\n          </li>\\n          <li>\\n           <a href=\"catalogue/category/books/fantasy_19/index.html\">\\n            Fantasy\\n           </a>\\n          </li>\\n          <li>\\n           <a href=\"catalogue/category/books/new-adult_20/index.html\">\\n            New Adult\\n           </a>\\n          </li>\\n          <li>\\n           <a href=\"catalogue/category/books/young-adult_21/index.html\">\\n            Young Adult\\n           </a>\\n          </li>\\n          <li>\\n           <a href=\"catalogue/category/books/science_22/index.html\">\\n            Science\\n           </a>\\n          </li>\\n          <li>\\n           <a href=\"catalogue/category/books/poetry_23/index.html\">\\n            Poetry\\n           </a>\\n          </li>\\n          <li>\\n           <a href=\"catalogue/category/books/paranormal_24/index.html\">\\n            Paranormal\\n           </a>\\n          </li>\\n          <li>\\n           <a href=\"catalogue/category/books/art_25/index.html\">\\n            Art\\n           </a>\\n          </li>\\n          <li>\\n           <a href=\"catalogue/category/books/psychology_26/index.html\">\\n            Psychology\\n           </a>\\n          </li>\\n          <li>\\n           <a href=\"catalogue/category/books/autobiography_27/index.html\">\\n            Autobiography\\n           </a>\\n          </li>\\n          <li>\\n           <a href=\"catalogue/category/books/parenting_28/index.html\">\\n            Parenting\\n           </a>\\n          </li>\\n          <li>\\n           <a href=\"catalogue/category/books/adult-fiction_29/index.html\">\\n            Adult Fiction\\n           </a>\\n          </li>\\n          <li>\\n           <a href=\"catalogue/category/books/humor_30/index.html\">\\n            Humor\\n           </a>\\n          </li>\\n          <li>\\n           <a href=\"catalogue/category/books/horror_31/index.html\">\\n            Horror\\n           </a>\\n          </li>\\n          <li>\\n           <a href=\"catalogue/category/books/history_32/index.html\">\\n            History\\n           </a>\\n          </li>\\n          <li>\\n           <a href=\"catalogue/category/books/food-and-drink_33/index.html\">\\n            Food and Drink\\n           </a>\\n          </li>\\n          <li>\\n           <a href=\"catalogue/category/books/christian-fiction_34/index.html\">\\n            Christian Fiction\\n           </a>\\n          </li>\\n          <li>\\n           <a href=\"catalogue/category/books/business_35/index.html\">\\n            Business\\n           </a>\\n          </li>\\n          <li>\\n           <a href=\"catalogue/category/books/biography_36/index.html\">\\n            Biography\\n           </a>\\n          </li>\\n          <li>\\n           <a href=\"catalogue/category/books/thriller_37/index.html\">\\n            Thriller\\n           </a>\\n          </li>\\n          <li>\\n           <a href=\"catalogue/category/books/contemporary_38/index.html\">\\n            Contemporary\\n           </a>\\n          </li>\\n          <li>\\n           <a href=\"catalogue/category/books/spirituality_39/index.html\">\\n            Spirituality\\n           </a>\\n          </li>\\n          <li>\\n           <a href=\"catalogue/category/books/academic_40/index.html\">\\n            Academic\\n           </a>\\n          </li>\\n          <li>\\n           <a href=\"catalogue/category/books/self-help_41/index.html\">\\n            Self Help\\n           </a>\\n          </li>\\n          <li>\\n           <a href=\"catalogue/category/books/historical_42/index.html\">\\n            Historical\\n           </a>\\n          </li>\\n          <li>\\n           <a href=\"catalogue/category/books/christian_43/index.html\">\\n            Christian\\n           </a>\\n          </li>\\n          <li>\\n           <a href=\"catalogue/category/books/suspense_44/index.html\">\\n            Suspense\\n           </a>\\n          </li>\\n          <li>\\n           <a href=\"catalogue/category/books/short-stories_45/index.html\">\\n            Short Stories\\n           </a>\\n          </li>\\n          <li>\\n           <a href=\"catalogue/category/books/novels_46/index.html\">\\n            Novels\\n           </a>\\n          </li>\\n          <li>\\n           <a href=\"catalogue/category/books/health_47/index.html\">\\n            Health\\n           </a>\\n          </li>\\n          <li>\\n           <a href=\"catalogue/category/books/politics_48/index.html\">\\n            Politics\\n           </a>\\n          </li>\\n          <li>\\n           <a href=\"catalogue/category/books/cultural_49/index.html\">\\n            Cultural\\n           </a>\\n          </li>\\n          <li>\\n           <a href=\"catalogue/category/books/erotica_50/index.html\">\\n            Erotica\\n           </a>\\n          </li>\\n          <li>\\n           <a href=\"catalogue/category/books/crime_51/index.html\">\\n            Crime\\n           </a>\\n          </li>\\n         </ul>\\n        </li>\\n       </ul>\\n      </div>\\n     </aside>\\n     <div class=\"col-sm-8 col-md-9\">\\n      <div class=\"page-header action\">\\n       <h1>\\n        All products\\n       </h1>\\n      </div>\\n      <div id=\"messages\">\\n      </div>\\n      <div id=\"promotions\">\\n      </div>\\n      <form class=\"form-horizontal\" method=\"get\">\\n       <div style=\"display:none\">\\n       </div>\\n       <strong>\\n        1000\\n       </strong>\\n       results - showing\\n       <strong>\\n        1\\n       </strong>\\n       to\\n       <strong>\\n        20\\n       </strong>\\n       .\\n      </form>\\n      <section>\\n       <div class=\"alert alert-warning\" role=\"alert\">\\n        <strong>\\n         Warning!\\n        </strong>\\n        This is a demo website for web scraping purposes. Prices and ratings here were randomly assigned and have no real meaning.\\n       </div>\\n       <div>\\n        <ol class=\"row\">\\n         <li class=\"col-xs-6 col-sm-4 col-md-3 col-lg-3\">\\n          <article class=\"product_pod\">\\n           <div class=\"image_container\">\\n            <a href=\"catalogue/a-light-in-the-attic_1000/index.html\">\\n             <img alt=\"A Light in the Attic\" class=\"thumbnail\" src=\"media/cache/2c/da/2cdad67c44b002e7ead0cc35693c0e8b.jpg\"/>\\n            </a>\\n           </div>\\n           <p class=\"star-rating Three\">\\n            <i class=\"icon-star\">\\n            </i>\\n            <i class=\"icon-star\">\\n            </i>\\n            <i class=\"icon-star\">\\n            </i>\\n            <i class=\"icon-star\">\\n            </i>\\n            <i class=\"icon-star\">\\n            </i>\\n           </p>\\n           <h3>\\n            <a href=\"catalogue/a-light-in-the-attic_1000/index.html\" title=\"A Light in the Attic\">\\n             A Light in the ...\\n            </a>\\n           </h3>\\n           <div class=\"product_price\">\\n            <p class=\"price_color\">\\n             Â£51.77\\n            </p>\\n            <p class=\"instock availability\">\\n             <i class=\"icon-ok\">\\n             </i>\\n             In stock\\n            </p>\\n            <form>\\n             <button class=\"btn btn-primary btn-block\" data-loading-text=\"Adding...\" type=\"submit\">\\n              Add to basket\\n             </button>\\n            </form>\\n           </div>\\n          </article>\\n         </li>\\n         <li class=\"col-xs-6 col-sm-4 col-md-3 col-lg-3\">\\n          <article class=\"product_pod\">\\n           <div class=\"image_container\">\\n            <a href=\"catalogue/tipping-the-velvet_999/index.html\">\\n             <img alt=\"Tipping the Velvet\" class=\"thumbnail\" src=\"media/cache/26/0c/260c6ae16bce31c8f8c95daddd9f4a1c.jpg\"/>\\n            </a>\\n           </div>\\n           <p class=\"star-rating One\">\\n            <i class=\"icon-star\">\\n            </i>\\n            <i class=\"icon-star\">\\n            </i>\\n            <i class=\"icon-star\">\\n            </i>\\n            <i class=\"icon-star\">\\n            </i>\\n            <i class=\"icon-star\">\\n            </i>\\n           </p>\\n           <h3>\\n            <a href=\"catalogue/tipping-the-velvet_999/index.html\" title=\"Tipping the Velvet\">\\n             Tipping the Velvet\\n            </a>\\n           </h3>\\n           <div class=\"product_price\">\\n            <p class=\"price_color\">\\n             Â£53.74\\n            </p>\\n            <p class=\"instock availability\">\\n             <i class=\"icon-ok\">\\n             </i>\\n             In stock\\n            </p>\\n            <form>\\n             <button class=\"btn btn-primary btn-block\" data-loading-text=\"Adding...\" type=\"submit\">\\n              Add to basket\\n             </button>\\n            </form>\\n           </div>\\n          </article>\\n         </li>\\n         <li class=\"col-xs-6 col-sm-4 col-md-3 col-lg-3\">\\n          <article class=\"product_pod\">\\n           <div class=\"image_container\">\\n            <a href=\"catalogue/soumission_998/index.html\">\\n             <img alt=\"Soumission\" class=\"thumbnail\" src=\"media/cache/3e/ef/3eef99c9d9adef34639f510662022830.jpg\"/>\\n            </a>\\n           </div>\\n           <p class=\"star-rating One\">\\n            <i class=\"icon-star\">\\n            </i>\\n            <i class=\"icon-star\">\\n            </i>\\n            <i class=\"icon-star\">\\n            </i>\\n            <i class=\"icon-star\">\\n            </i>\\n            <i class=\"icon-star\">\\n            </i>\\n           </p>\\n           <h3>\\n            <a href=\"catalogue/soumission_998/index.html\" title=\"Soumission\">\\n             Soumission\\n            </a>\\n           </h3>\\n           <div class=\"product_price\">\\n            <p class=\"price_color\">\\n             Â£50.10\\n            </p>\\n            <p class=\"instock availability\">\\n             <i class=\"icon-ok\">\\n             </i>\\n             In stock\\n            </p>\\n            <form>\\n             <button class=\"btn btn-primary btn-block\" data-loading-text=\"Adding...\" type=\"submit\">\\n              Add to basket\\n             </button>\\n            </form>\\n           </div>\\n          </article>\\n         </li>\\n         <li class=\"col-xs-6 col-sm-4 col-md-3 col-lg-3\">\\n          <article class=\"product_pod\">\\n           <div class=\"image_container\">\\n            <a href=\"catalogue/sharp-objects_997/index.html\">\\n             <img alt=\"Sharp Objects\" class=\"thumbnail\" src=\"media/cache/32/51/3251cf3a3412f53f339e42cac2134093.jpg\"/>\\n            </a>\\n           </div>\\n           <p class=\"star-rating Four\">\\n            <i class=\"icon-star\">\\n            </i>\\n            <i class=\"icon-star\">\\n            </i>\\n            <i class=\"icon-star\">\\n            </i>\\n            <i class=\"icon-star\">\\n            </i>\\n            <i class=\"icon-star\">\\n            </i>\\n           </p>\\n           <h3>\\n            <a href=\"catalogue/sharp-objects_997/index.html\" title=\"Sharp Objects\">\\n             Sharp Objects\\n            </a>\\n           </h3>\\n           <div class=\"product_price\">\\n            <p class=\"price_color\">\\n             Â£47.82\\n            </p>\\n            <p class=\"instock availability\">\\n             <i class=\"icon-ok\">\\n             </i>\\n             In stock\\n            </p>\\n            <form>\\n             <button class=\"btn btn-primary btn-block\" data-loading-text=\"Adding...\" type=\"submit\">\\n              Add to basket\\n             </button>\\n            </form>\\n           </div>\\n          </article>\\n         </li>\\n         <li class=\"col-xs-6 col-sm-4 col-md-3 col-lg-3\">\\n          <article class=\"product_pod\">\\n           <div class=\"image_container\">\\n            <a href=\"catalogue/sapiens-a-brief-history-of-humankind_996/index.html\">\\n             <img alt=\"Sapiens: A Brief History of Humankind\" class=\"thumbnail\" src=\"media/cache/be/a5/bea5697f2534a2f86a3ef27b5a8c12a6.jpg\"/>\\n            </a>\\n           </div>\\n           <p class=\"star-rating Five\">\\n            <i class=\"icon-star\">\\n            </i>\\n            <i class=\"icon-star\">\\n            </i>\\n            <i class=\"icon-star\">\\n            </i>\\n            <i class=\"icon-star\">\\n            </i>\\n            <i class=\"icon-star\">\\n            </i>\\n           </p>\\n           <h3>\\n            <a href=\"catalogue/sapiens-a-brief-history-of-humankind_996/index.html\" title=\"Sapiens: A Brief History of Humankind\">\\n             Sapiens: A Brief History ...\\n            </a>\\n           </h3>\\n           <div class=\"product_price\">\\n            <p class=\"price_color\">\\n             Â£54.23\\n            </p>\\n            <p class=\"instock availability\">\\n             <i class=\"icon-ok\">\\n             </i>\\n             In stock\\n            </p>\\n            <form>\\n             <button class=\"btn btn-primary btn-block\" data-loading-text=\"Adding...\" type=\"submit\">\\n              Add to basket\\n             </button>\\n            </form>\\n           </div>\\n          </article>\\n         </li>\\n         <li class=\"col-xs-6 col-sm-4 col-md-3 col-lg-3\">\\n          <article class=\"product_pod\">\\n           <div class=\"image_container\">\\n            <a href=\"catalogue/the-requiem-red_995/index.html\">\\n             <img alt=\"The Requiem Red\" class=\"thumbnail\" src=\"media/cache/68/33/68339b4c9bc034267e1da611ab3b34f8.jpg\"/>\\n            </a>\\n           </div>\\n           <p class=\"star-rating One\">\\n            <i class=\"icon-star\">\\n            </i>\\n            <i class=\"icon-star\">\\n            </i>\\n            <i class=\"icon-star\">\\n            </i>\\n            <i class=\"icon-star\">\\n            </i>\\n            <i class=\"icon-star\">\\n            </i>\\n           </p>\\n           <h3>\\n            <a href=\"catalogue/the-requiem-red_995/index.html\" title=\"The Requiem Red\">\\n             The Requiem Red\\n            </a>\\n           </h3>\\n           <div class=\"product_price\">\\n            <p class=\"price_color\">\\n             Â£22.65\\n            </p>\\n            <p class=\"instock availability\">\\n             <i class=\"icon-ok\">\\n             </i>\\n             In stock\\n            </p>\\n            <form>\\n             <button class=\"btn btn-primary btn-block\" data-loading-text=\"Adding...\" type=\"submit\">\\n              Add to basket\\n             </button>\\n            </form>\\n           </div>\\n          </article>\\n         </li>\\n         <li class=\"col-xs-6 col-sm-4 col-md-3 col-lg-3\">\\n          <article class=\"product_pod\">\\n           <div class=\"image_container\">\\n            <a href=\"catalogue/the-dirty-little-secrets-of-getting-your-dream-job_994/index.html\">\\n             <img alt=\"The Dirty Little Secrets of Getting Your Dream Job\" class=\"thumbnail\" src=\"media/cache/92/27/92274a95b7c251fea59a2b8a78275ab4.jpg\"/>\\n            </a>\\n           </div>\\n           <p class=\"star-rating Four\">\\n            <i class=\"icon-star\">\\n            </i>\\n            <i class=\"icon-star\">\\n            </i>\\n            <i class=\"icon-star\">\\n            </i>\\n            <i class=\"icon-star\">\\n            </i>\\n            <i class=\"icon-star\">\\n            </i>\\n           </p>\\n           <h3>\\n            <a href=\"catalogue/the-dirty-little-secrets-of-getting-your-dream-job_994/index.html\" title=\"The Dirty Little Secrets of Getting Your Dream Job\">\\n             The Dirty Little Secrets ...\\n            </a>\\n           </h3>\\n           <div class=\"product_price\">\\n            <p class=\"price_color\">\\n             Â£33.34\\n            </p>\\n            <p class=\"instock availability\">\\n             <i class=\"icon-ok\">\\n             </i>\\n             In stock\\n            </p>\\n            <form>\\n             <button class=\"btn btn-primary btn-block\" data-loading-text=\"Adding...\" type=\"submit\">\\n              Add to basket\\n             </button>\\n            </form>\\n           </div>\\n          </article>\\n         </li>\\n         <li class=\"col-xs-6 col-sm-4 col-md-3 col-lg-3\">\\n          <article class=\"product_pod\">\\n           <div class=\"image_container\">\\n            <a href=\"catalogue/the-coming-woman-a-novel-based-on-the-life-of-the-infamous-feminist-victoria-woodhull_993/index.html\">\\n             <img alt=\"The Coming Woman: A Novel Based on the Life of the Infamous Feminist, Victoria Woodhull\" class=\"thumbnail\" src=\"media/cache/3d/54/3d54940e57e662c4dd1f3ff00c78cc64.jpg\"/>\\n            </a>\\n           </div>\\n           <p class=\"star-rating Three\">\\n            <i class=\"icon-star\">\\n            </i>\\n            <i class=\"icon-star\">\\n            </i>\\n            <i class=\"icon-star\">\\n            </i>\\n            <i class=\"icon-star\">\\n            </i>\\n            <i class=\"icon-star\">\\n            </i>\\n           </p>\\n           <h3>\\n            <a href=\"catalogue/the-coming-woman-a-novel-based-on-the-life-of-the-infamous-feminist-victoria-woodhull_993/index.html\" title=\"The Coming Woman: A Novel Based on the Life of the Infamous Feminist, Victoria Woodhull\">\\n             The Coming Woman: A ...\\n            </a>\\n           </h3>\\n           <div class=\"product_price\">\\n            <p class=\"price_color\">\\n             Â£17.93\\n            </p>\\n            <p class=\"instock availability\">\\n             <i class=\"icon-ok\">\\n             </i>\\n             In stock\\n            </p>\\n            <form>\\n             <button class=\"btn btn-primary btn-block\" data-loading-text=\"Adding...\" type=\"submit\">\\n              Add to basket\\n             </button>\\n            </form>\\n           </div>\\n          </article>\\n         </li>\\n         <li class=\"col-xs-6 col-sm-4 col-md-3 col-lg-3\">\\n          <article class=\"product_pod\">\\n           <div class=\"image_container\">\\n            <a href=\"catalogue/the-boys-in-the-boat-nine-americans-and-their-epic-quest-for-gold-at-the-1936-berlin-olympics_992/index.html\">\\n             <img alt=\"The Boys in the Boat: Nine Americans and Their Epic Quest for Gold at the 1936 Berlin Olympics\" class=\"thumbnail\" src=\"media/cache/66/88/66883b91f6804b2323c8369331cb7dd1.jpg\"/>\\n            </a>\\n           </div>\\n           <p class=\"star-rating Four\">\\n            <i class=\"icon-star\">\\n            </i>\\n            <i class=\"icon-star\">\\n            </i>\\n            <i class=\"icon-star\">\\n            </i>\\n            <i class=\"icon-star\">\\n            </i>\\n            <i class=\"icon-star\">\\n            </i>\\n           </p>\\n           <h3>\\n            <a href=\"catalogue/the-boys-in-the-boat-nine-americans-and-their-epic-quest-for-gold-at-the-1936-berlin-olympics_992/index.html\" title=\"The Boys in the Boat: Nine Americans and Their Epic Quest for Gold at the 1936 Berlin Olympics\">\\n             The Boys in the ...\\n            </a>\\n           </h3>\\n           <div class=\"product_price\">\\n            <p class=\"price_color\">\\n             Â£22.60\\n            </p>\\n            <p class=\"instock availability\">\\n             <i class=\"icon-ok\">\\n             </i>\\n             In stock\\n            </p>\\n            <form>\\n             <button class=\"btn btn-primary btn-block\" data-loading-text=\"Adding...\" type=\"submit\">\\n              Add to basket\\n             </button>\\n            </form>\\n           </div>\\n          </article>\\n         </li>\\n         <li class=\"col-xs-6 col-sm-4 col-md-3 col-lg-3\">\\n          <article class=\"product_pod\">\\n           <div class=\"image_container\">\\n            <a href=\"catalogue/the-black-maria_991/index.html\">\\n             <img alt=\"The Black Maria\" class=\"thumbnail\" src=\"media/cache/58/46/5846057e28022268153beff6d352b06c.jpg\"/>\\n            </a>\\n           </div>\\n           <p class=\"star-rating One\">\\n            <i class=\"icon-star\">\\n            </i>\\n            <i class=\"icon-star\">\\n            </i>\\n            <i class=\"icon-star\">\\n            </i>\\n            <i class=\"icon-star\">\\n            </i>\\n            <i class=\"icon-star\">\\n            </i>\\n           </p>\\n           <h3>\\n            <a href=\"catalogue/the-black-maria_991/index.html\" title=\"The Black Maria\">\\n             The Black Maria\\n            </a>\\n           </h3>\\n           <div class=\"product_price\">\\n            <p class=\"price_color\">\\n             Â£52.15\\n            </p>\\n            <p class=\"instock availability\">\\n             <i class=\"icon-ok\">\\n             </i>\\n             In stock\\n            </p>\\n            <form>\\n             <button class=\"btn btn-primary btn-block\" data-loading-text=\"Adding...\" type=\"submit\">\\n              Add to basket\\n             </button>\\n            </form>\\n           </div>\\n          </article>\\n         </li>\\n         <li class=\"col-xs-6 col-sm-4 col-md-3 col-lg-3\">\\n          <article class=\"product_pod\">\\n           <div class=\"image_container\">\\n            <a href=\"catalogue/starving-hearts-triangular-trade-trilogy-1_990/index.html\">\\n             <img alt=\"Starving Hearts (Triangular Trade Trilogy, #1)\" class=\"thumbnail\" src=\"media/cache/be/f4/bef44da28c98f905a3ebec0b87be8530.jpg\"/>\\n            </a>\\n           </div>\\n           <p class=\"star-rating Two\">\\n            <i class=\"icon-star\">\\n            </i>\\n            <i class=\"icon-star\">\\n            </i>\\n            <i class=\"icon-star\">\\n            </i>\\n            <i class=\"icon-star\">\\n            </i>\\n            <i class=\"icon-star\">\\n            </i>\\n           </p>\\n           <h3>\\n            <a href=\"catalogue/starving-hearts-triangular-trade-trilogy-1_990/index.html\" title=\"Starving Hearts (Triangular Trade Trilogy, #1)\">\\n             Starving Hearts (Triangular Trade ...\\n            </a>\\n           </h3>\\n           <div class=\"product_price\">\\n            <p class=\"price_color\">\\n             Â£13.99\\n            </p>\\n            <p class=\"instock availability\">\\n             <i class=\"icon-ok\">\\n             </i>\\n             In stock\\n            </p>\\n            <form>\\n             <button class=\"btn btn-primary btn-block\" data-loading-text=\"Adding...\" type=\"submit\">\\n              Add to basket\\n             </button>\\n            </form>\\n           </div>\\n          </article>\\n         </li>\\n         <li class=\"col-xs-6 col-sm-4 col-md-3 col-lg-3\">\\n          <article class=\"product_pod\">\\n           <div class=\"image_container\">\\n            <a href=\"catalogue/shakespeares-sonnets_989/index.html\">\\n             <img alt=\"Shakespeare\\'s Sonnets\" class=\"thumbnail\" src=\"media/cache/10/48/1048f63d3b5061cd2f424d20b3f9b666.jpg\"/>\\n            </a>\\n           </div>\\n           <p class=\"star-rating Four\">\\n            <i class=\"icon-star\">\\n            </i>\\n            <i class=\"icon-star\">\\n            </i>\\n            <i class=\"icon-star\">\\n            </i>\\n            <i class=\"icon-star\">\\n            </i>\\n            <i class=\"icon-star\">\\n            </i>\\n           </p>\\n           <h3>\\n            <a href=\"catalogue/shakespeares-sonnets_989/index.html\" title=\"Shakespeare\\'s Sonnets\">\\n             Shakespeare\\'s Sonnets\\n            </a>\\n           </h3>\\n           <div class=\"product_price\">\\n            <p class=\"price_color\">\\n             Â£20.66\\n            </p>\\n            <p class=\"instock availability\">\\n             <i class=\"icon-ok\">\\n             </i>\\n             In stock\\n            </p>\\n            <form>\\n             <button class=\"btn btn-primary btn-block\" data-loading-text=\"Adding...\" type=\"submit\">\\n              Add to basket\\n             </button>\\n            </form>\\n           </div>\\n          </article>\\n         </li>\\n         <li class=\"col-xs-6 col-sm-4 col-md-3 col-lg-3\">\\n          <article class=\"product_pod\">\\n           <div class=\"image_container\">\\n            <a href=\"catalogue/set-me-free_988/index.html\">\\n             <img alt=\"Set Me Free\" class=\"thumbnail\" src=\"media/cache/5b/88/5b88c52633f53cacf162c15f4f823153.jpg\"/>\\n            </a>\\n           </div>\\n           <p class=\"star-rating Five\">\\n            <i class=\"icon-star\">\\n            </i>\\n            <i class=\"icon-star\">\\n            </i>\\n            <i class=\"icon-star\">\\n            </i>\\n            <i class=\"icon-star\">\\n            </i>\\n            <i class=\"icon-star\">\\n            </i>\\n           </p>\\n           <h3>\\n            <a href=\"catalogue/set-me-free_988/index.html\" title=\"Set Me Free\">\\n             Set Me Free\\n            </a>\\n           </h3>\\n           <div class=\"product_price\">\\n            <p class=\"price_color\">\\n             Â£17.46\\n            </p>\\n            <p class=\"instock availability\">\\n             <i class=\"icon-ok\">\\n             </i>\\n             In stock\\n            </p>\\n            <form>\\n             <button class=\"btn btn-primary btn-block\" data-loading-text=\"Adding...\" type=\"submit\">\\n              Add to basket\\n             </button>\\n            </form>\\n           </div>\\n          </article>\\n         </li>\\n         <li class=\"col-xs-6 col-sm-4 col-md-3 col-lg-3\">\\n          <article class=\"product_pod\">\\n           <div class=\"image_container\">\\n            <a href=\"catalogue/scott-pilgrims-precious-little-life-scott-pilgrim-1_987/index.html\">\\n             <img alt=\"Scott Pilgrim\\'s Precious Little Life (Scott Pilgrim #1)\" class=\"thumbnail\" src=\"media/cache/94/b1/94b1b8b244bce9677c2f29ccc890d4d2.jpg\"/>\\n            </a>\\n           </div>\\n           <p class=\"star-rating Five\">\\n            <i class=\"icon-star\">\\n            </i>\\n            <i class=\"icon-star\">\\n            </i>\\n            <i class=\"icon-star\">\\n            </i>\\n            <i class=\"icon-star\">\\n            </i>\\n            <i class=\"icon-star\">\\n            </i>\\n           </p>\\n           <h3>\\n            <a href=\"catalogue/scott-pilgrims-precious-little-life-scott-pilgrim-1_987/index.html\" title=\"Scott Pilgrim\\'s Precious Little Life (Scott Pilgrim #1)\">\\n             Scott Pilgrim\\'s Precious Little ...\\n            </a>\\n           </h3>\\n           <div class=\"product_price\">\\n            <p class=\"price_color\">\\n             Â£52.29\\n            </p>\\n            <p class=\"instock availability\">\\n             <i class=\"icon-ok\">\\n             </i>\\n             In stock\\n            </p>\\n            <form>\\n             <button class=\"btn btn-primary btn-block\" data-loading-text=\"Adding...\" type=\"submit\">\\n              Add to basket\\n             </button>\\n            </form>\\n           </div>\\n          </article>\\n         </li>\\n         <li class=\"col-xs-6 col-sm-4 col-md-3 col-lg-3\">\\n          <article class=\"product_pod\">\\n           <div class=\"image_container\">\\n            <a href=\"catalogue/rip-it-up-and-start-again_986/index.html\">\\n             <img alt=\"Rip it Up and Start Again\" class=\"thumbnail\" src=\"media/cache/81/c4/81c4a973364e17d01f217e1188253d5e.jpg\"/>\\n            </a>\\n           </div>\\n           <p class=\"star-rating Five\">\\n            <i class=\"icon-star\">\\n            </i>\\n            <i class=\"icon-star\">\\n            </i>\\n            <i class=\"icon-star\">\\n            </i>\\n            <i class=\"icon-star\">\\n            </i>\\n            <i class=\"icon-star\">\\n            </i>\\n           </p>\\n           <h3>\\n            <a href=\"catalogue/rip-it-up-and-start-again_986/index.html\" title=\"Rip it Up and Start Again\">\\n             Rip it Up and ...\\n            </a>\\n           </h3>\\n           <div class=\"product_price\">\\n            <p class=\"price_color\">\\n             Â£35.02\\n            </p>\\n            <p class=\"instock availability\">\\n             <i class=\"icon-ok\">\\n             </i>\\n             In stock\\n            </p>\\n            <form>\\n             <button class=\"btn btn-primary btn-block\" data-loading-text=\"Adding...\" type=\"submit\">\\n              Add to basket\\n             </button>\\n            </form>\\n           </div>\\n          </article>\\n         </li>\\n         <li class=\"col-xs-6 col-sm-4 col-md-3 col-lg-3\">\\n          <article class=\"product_pod\">\\n           <div class=\"image_container\">\\n            <a href=\"catalogue/our-band-could-be-your-life-scenes-from-the-american-indie-underground-1981-1991_985/index.html\">\\n             <img alt=\"Our Band Could Be Your Life: Scenes from the American Indie Underground, 1981-1991\" class=\"thumbnail\" src=\"media/cache/54/60/54607fe8945897cdcced0044103b10b6.jpg\"/>\\n            </a>\\n           </div>\\n           <p class=\"star-rating Three\">\\n            <i class=\"icon-star\">\\n            </i>\\n            <i class=\"icon-star\">\\n            </i>\\n            <i class=\"icon-star\">\\n            </i>\\n            <i class=\"icon-star\">\\n            </i>\\n            <i class=\"icon-star\">\\n            </i>\\n           </p>\\n           <h3>\\n            <a href=\"catalogue/our-band-could-be-your-life-scenes-from-the-american-indie-underground-1981-1991_985/index.html\" title=\"Our Band Could Be Your Life: Scenes from the American Indie Underground, 1981-1991\">\\n             Our Band Could Be ...\\n            </a>\\n           </h3>\\n           <div class=\"product_price\">\\n            <p class=\"price_color\">\\n             Â£57.25\\n            </p>\\n            <p class=\"instock availability\">\\n             <i class=\"icon-ok\">\\n             </i>\\n             In stock\\n            </p>\\n            <form>\\n             <button class=\"btn btn-primary btn-block\" data-loading-text=\"Adding...\" type=\"submit\">\\n              Add to basket\\n             </button>\\n            </form>\\n           </div>\\n          </article>\\n         </li>\\n         <li class=\"col-xs-6 col-sm-4 col-md-3 col-lg-3\">\\n          <article class=\"product_pod\">\\n           <div class=\"image_container\">\\n            <a href=\"catalogue/olio_984/index.html\">\\n             <img alt=\"Olio\" class=\"thumbnail\" src=\"media/cache/55/33/553310a7162dfbc2c6d19a84da0df9e1.jpg\"/>\\n            </a>\\n           </div>\\n           <p class=\"star-rating One\">\\n            <i class=\"icon-star\">\\n            </i>\\n            <i class=\"icon-star\">\\n            </i>\\n            <i class=\"icon-star\">\\n            </i>\\n            <i class=\"icon-star\">\\n            </i>\\n            <i class=\"icon-star\">\\n            </i>\\n           </p>\\n           <h3>\\n            <a href=\"catalogue/olio_984/index.html\" title=\"Olio\">\\n             Olio\\n            </a>\\n           </h3>\\n           <div class=\"product_price\">\\n            <p class=\"price_color\">\\n             Â£23.88\\n            </p>\\n            <p class=\"instock availability\">\\n             <i class=\"icon-ok\">\\n             </i>\\n             In stock\\n            </p>\\n            <form>\\n             <button class=\"btn btn-primary btn-block\" data-loading-text=\"Adding...\" type=\"submit\">\\n              Add to basket\\n             </button>\\n            </form>\\n           </div>\\n          </article>\\n         </li>\\n         <li class=\"col-xs-6 col-sm-4 col-md-3 col-lg-3\">\\n          <article class=\"product_pod\">\\n           <div class=\"image_container\">\\n            <a href=\"catalogue/mesaerion-the-best-science-fiction-stories-1800-1849_983/index.html\">\\n             <img alt=\"Mesaerion: The Best Science Fiction Stories 1800-1849\" class=\"thumbnail\" src=\"media/cache/09/a3/09a3aef48557576e1a85ba7efea8ecb7.jpg\"/>\\n            </a>\\n           </div>\\n           <p class=\"star-rating One\">\\n            <i class=\"icon-star\">\\n            </i>\\n            <i class=\"icon-star\">\\n            </i>\\n            <i class=\"icon-star\">\\n            </i>\\n            <i class=\"icon-star\">\\n            </i>\\n            <i class=\"icon-star\">\\n            </i>\\n           </p>\\n           <h3>\\n            <a href=\"catalogue/mesaerion-the-best-science-fiction-stories-1800-1849_983/index.html\" title=\"Mesaerion: The Best Science Fiction Stories 1800-1849\">\\n             Mesaerion: The Best Science ...\\n            </a>\\n           </h3>\\n           <div class=\"product_price\">\\n            <p class=\"price_color\">\\n             Â£37.59\\n            </p>\\n            <p class=\"instock availability\">\\n             <i class=\"icon-ok\">\\n             </i>\\n             In stock\\n            </p>\\n            <form>\\n             <button class=\"btn btn-primary btn-block\" data-loading-text=\"Adding...\" type=\"submit\">\\n              Add to basket\\n             </button>\\n            </form>\\n           </div>\\n          </article>\\n         </li>\\n         <li class=\"col-xs-6 col-sm-4 col-md-3 col-lg-3\">\\n          <article class=\"product_pod\">\\n           <div class=\"image_container\">\\n            <a href=\"catalogue/libertarianism-for-beginners_982/index.html\">\\n             <img alt=\"Libertarianism for Beginners\" class=\"thumbnail\" src=\"media/cache/0b/bc/0bbcd0a6f4bcd81ccb1049a52736406e.jpg\"/>\\n            </a>\\n           </div>\\n           <p class=\"star-rating Two\">\\n            <i class=\"icon-star\">\\n            </i>\\n            <i class=\"icon-star\">\\n            </i>\\n            <i class=\"icon-star\">\\n            </i>\\n            <i class=\"icon-star\">\\n            </i>\\n            <i class=\"icon-star\">\\n            </i>\\n           </p>\\n           <h3>\\n            <a href=\"catalogue/libertarianism-for-beginners_982/index.html\" title=\"Libertarianism for Beginners\">\\n             Libertarianism for Beginners\\n            </a>\\n           </h3>\\n           <div class=\"product_price\">\\n            <p class=\"price_color\">\\n             Â£51.33\\n            </p>\\n            <p class=\"instock availability\">\\n             <i class=\"icon-ok\">\\n             </i>\\n             In stock\\n            </p>\\n            <form>\\n             <button class=\"btn btn-primary btn-block\" data-loading-text=\"Adding...\" type=\"submit\">\\n              Add to basket\\n             </button>\\n            </form>\\n           </div>\\n          </article>\\n         </li>\\n         <li class=\"col-xs-6 col-sm-4 col-md-3 col-lg-3\">\\n          <article class=\"product_pod\">\\n           <div class=\"image_container\">\\n            <a href=\"catalogue/its-only-the-himalayas_981/index.html\">\\n             <img alt=\"It\\'s Only the Himalayas\" class=\"thumbnail\" src=\"media/cache/27/a5/27a53d0bb95bdd88288eaf66c9230d7e.jpg\"/>\\n            </a>\\n           </div>\\n           <p class=\"star-rating Two\">\\n            <i class=\"icon-star\">\\n            </i>\\n            <i class=\"icon-star\">\\n            </i>\\n            <i class=\"icon-star\">\\n            </i>\\n            <i class=\"icon-star\">\\n            </i>\\n            <i class=\"icon-star\">\\n            </i>\\n           </p>\\n           <h3>\\n            <a href=\"catalogue/its-only-the-himalayas_981/index.html\" title=\"It\\'s Only the Himalayas\">\\n             It\\'s Only the Himalayas\\n            </a>\\n           </h3>\\n           <div class=\"product_price\">\\n            <p class=\"price_color\">\\n             Â£45.17\\n            </p>\\n            <p class=\"instock availability\">\\n             <i class=\"icon-ok\">\\n             </i>\\n             In stock\\n            </p>\\n            <form>\\n             <button class=\"btn btn-primary btn-block\" data-loading-text=\"Adding...\" type=\"submit\">\\n              Add to basket\\n             </button>\\n            </form>\\n           </div>\\n          </article>\\n         </li>\\n        </ol>\\n        <div>\\n         <ul class=\"pager\">\\n          <li class=\"current\">\\n           Page 1 of 50\\n          </li>\\n          <li class=\"next\">\\n           <a href=\"catalogue/page-2.html\">\\n            next\\n           </a>\\n          </li>\\n         </ul>\\n        </div>\\n       </div>\\n      </section>\\n     </div>\\n    </div>\\n    <!-- /row -->\\n   </div>\\n   <!-- /page_inner -->\\n  </div>\\n  <!-- /container-fluid -->\\n  <footer class=\"footer container-fluid\">\\n  </footer>\\n  <!-- jQuery -->\\n  <script src=\"http://ajax.googleapis.com/ajax/libs/jquery/1.9.1/jquery.min.js\">\\n  </script>\\n  <script>\\n   window.jQuery || document.write(\\'<script src=\"static/oscar/js/jquery/jquery-1.9.1.min.js\"><\\\\/script>\\')\\n  </script>\\n  <!-- Twitter Bootstrap -->\\n  <script src=\"static/oscar/js/bootstrap3/bootstrap.min.js\" type=\"text/javascript\">\\n  </script>\\n  <!-- Oscar -->\\n  <script charset=\"utf-8\" src=\"static/oscar/js/oscar/ui.js\" type=\"text/javascript\">\\n  </script>\\n  <script charset=\"utf-8\" src=\"static/oscar/js/bootstrap-datetimepicker/bootstrap-datetimepicker.js\" type=\"text/javascript\">\\n  </script>\\n  <script charset=\"utf-8\" src=\"static/oscar/js/bootstrap-datetimepicker/locales/bootstrap-datetimepicker.all.js\" type=\"text/javascript\">\\n  </script>\\n  <script type=\"text/javascript\">\\n   $(function() {\\n                \\n    \\n    \\n    oscar.init();\\n\\n    oscar.search.init();\\n\\n            });\\n  </script>\\n  <!-- Version: N/A -->\\n </body>\\n</html>\\n'"
      ]
     },
     "execution_count": 43,
     "metadata": {},
     "output_type": "execute_result"
    }
   ],
   "source": [
    "html = response.text\n",
    "data = BeautifulSoup(html,'html.parser')\n",
    "data.prettify()"
   ]
  },
  {
   "cell_type": "code",
   "execution_count": 45,
   "metadata": {},
   "outputs": [
    {
     "data": {
      "text/plain": [
       "<title>\n",
       "    All products | Books to Scrape - Sandbox\n",
       "</title>"
      ]
     },
     "execution_count": 45,
     "metadata": {},
     "output_type": "execute_result"
    }
   ],
   "source": [
    "data.title"
   ]
  },
  {
   "cell_type": "code",
   "execution_count": 49,
   "metadata": {},
   "outputs": [
    {
     "data": {
      "text/plain": [
       "'Books to Scrape'"
      ]
     },
     "execution_count": 49,
     "metadata": {},
     "output_type": "execute_result"
    }
   ],
   "source": [
    "data.a.string # first hyperlink"
   ]
  },
  {
   "cell_type": "code",
   "execution_count": 51,
   "metadata": {},
   "outputs": [
    {
     "data": {
      "text/plain": [
       "<a href=\"index.html\">Books to Scrape</a>"
      ]
     },
     "execution_count": 51,
     "metadata": {},
     "output_type": "execute_result"
    }
   ],
   "source": [
    "data.header.a # specific "
   ]
  },
  {
   "cell_type": "code",
   "execution_count": 54,
   "metadata": {},
   "outputs": [
    {
     "data": {
      "text/plain": [
       "<article class=\"product_pod\">\n",
       "<div class=\"image_container\">\n",
       "<a href=\"catalogue/a-light-in-the-attic_1000/index.html\"><img alt=\"A Light in the Attic\" class=\"thumbnail\" src=\"media/cache/2c/da/2cdad67c44b002e7ead0cc35693c0e8b.jpg\"/></a>\n",
       "</div>\n",
       "<p class=\"star-rating Three\">\n",
       "<i class=\"icon-star\"></i>\n",
       "<i class=\"icon-star\"></i>\n",
       "<i class=\"icon-star\"></i>\n",
       "<i class=\"icon-star\"></i>\n",
       "<i class=\"icon-star\"></i>\n",
       "</p>\n",
       "<h3><a href=\"catalogue/a-light-in-the-attic_1000/index.html\" title=\"A Light in the Attic\">A Light in the ...</a></h3>\n",
       "<div class=\"product_price\">\n",
       "<p class=\"price_color\">Â£51.77</p>\n",
       "<p class=\"instock availability\">\n",
       "<i class=\"icon-ok\"></i>\n",
       "    \n",
       "        In stock\n",
       "    \n",
       "</p>\n",
       "<form>\n",
       "<button class=\"btn btn-primary btn-block\" data-loading-text=\"Adding...\" type=\"submit\">Add to basket</button>\n",
       "</form>\n",
       "</div>\n",
       "</article>"
      ]
     },
     "execution_count": 54,
     "metadata": {},
     "output_type": "execute_result"
    }
   ],
   "source": [
    "book = data.find(class_ = 'product_pod')\n",
    "book # fetch the title "
   ]
  },
  {
   "cell_type": "code",
   "execution_count": 57,
   "metadata": {},
   "outputs": [
    {
     "data": {
      "text/plain": [
       "'A Light in the Attic'"
      ]
     },
     "execution_count": 57,
     "metadata": {},
     "output_type": "execute_result"
    }
   ],
   "source": [
    "book.h3.a['title']"
   ]
  },
  {
   "cell_type": "code",
   "execution_count": 59,
   "metadata": {},
   "outputs": [
    {
     "data": {
      "text/plain": [
       "'catalogue/a-light-in-the-attic_1000/index.html'"
      ]
     },
     "execution_count": 59,
     "metadata": {},
     "output_type": "execute_result"
    }
   ],
   "source": [
    "book.h3.a['href'] # relative link"
   ]
  },
  {
   "cell_type": "code",
   "execution_count": 61,
   "metadata": {},
   "outputs": [
    {
     "name": "stdout",
     "output_type": "stream",
     "text": [
      "http://books.toscrape.com/catalogue/a-light-in-the-attic_1000/index.html\n"
     ]
    }
   ],
   "source": [
    "print('http://books.toscrape.com/'+book.h3.a['href'])"
   ]
  },
  {
   "cell_type": "code",
   "execution_count": 66,
   "metadata": {},
   "outputs": [
    {
     "name": "stdout",
     "output_type": "stream",
     "text": [
      "20\n"
     ]
    }
   ],
   "source": [
    "books = data.find_all(class_ = 'product_pod')\n",
    "print(len(books))"
   ]
  },
  {
   "cell_type": "code",
   "execution_count": 71,
   "metadata": {},
   "outputs": [],
   "source": [
    "books_url = []\n",
    "for i in books:\n",
    "    books_url.append('http://books.toscrape.com/'+i.h3.a['href'])"
   ]
  },
  {
   "cell_type": "code",
   "execution_count": 73,
   "metadata": {},
   "outputs": [
    {
     "name": "stdout",
     "output_type": "stream",
     "text": [
      "['http://books.toscrape.com/catalogue/a-light-in-the-attic_1000/index.html', 'http://books.toscrape.com/catalogue/tipping-the-velvet_999/index.html', 'http://books.toscrape.com/catalogue/soumission_998/index.html', 'http://books.toscrape.com/catalogue/sharp-objects_997/index.html', 'http://books.toscrape.com/catalogue/sapiens-a-brief-history-of-humankind_996/index.html', 'http://books.toscrape.com/catalogue/the-requiem-red_995/index.html', 'http://books.toscrape.com/catalogue/the-dirty-little-secrets-of-getting-your-dream-job_994/index.html', 'http://books.toscrape.com/catalogue/the-coming-woman-a-novel-based-on-the-life-of-the-infamous-feminist-victoria-woodhull_993/index.html', 'http://books.toscrape.com/catalogue/the-boys-in-the-boat-nine-americans-and-their-epic-quest-for-gold-at-the-1936-berlin-olympics_992/index.html', 'http://books.toscrape.com/catalogue/the-black-maria_991/index.html', 'http://books.toscrape.com/catalogue/starving-hearts-triangular-trade-trilogy-1_990/index.html', 'http://books.toscrape.com/catalogue/shakespeares-sonnets_989/index.html', 'http://books.toscrape.com/catalogue/set-me-free_988/index.html', 'http://books.toscrape.com/catalogue/scott-pilgrims-precious-little-life-scott-pilgrim-1_987/index.html', 'http://books.toscrape.com/catalogue/rip-it-up-and-start-again_986/index.html', 'http://books.toscrape.com/catalogue/our-band-could-be-your-life-scenes-from-the-american-indie-underground-1981-1991_985/index.html', 'http://books.toscrape.com/catalogue/olio_984/index.html', 'http://books.toscrape.com/catalogue/mesaerion-the-best-science-fiction-stories-1800-1849_983/index.html', 'http://books.toscrape.com/catalogue/libertarianism-for-beginners_982/index.html', 'http://books.toscrape.com/catalogue/its-only-the-himalayas_981/index.html']\n"
     ]
    }
   ],
   "source": [
    "print(books_url)"
   ]
  },
  {
   "cell_type": "code",
   "execution_count": 78,
   "metadata": {},
   "outputs": [
    {
     "data": {
      "text/plain": [
       "[<li>\n",
       " <a href=\"catalogue/category/books/travel_2/index.html\">\n",
       "                             \n",
       "                                 Travel\n",
       "                             \n",
       "                         </a>\n",
       " </li>, <li>\n",
       " <a href=\"catalogue/category/books/mystery_3/index.html\">\n",
       "                             \n",
       "                                 Mystery\n",
       "                             \n",
       "                         </a>\n",
       " </li>, <li>\n",
       " <a href=\"catalogue/category/books/historical-fiction_4/index.html\">\n",
       "                             \n",
       "                                 Historical Fiction\n",
       "                             \n",
       "                         </a>\n",
       " </li>, <li>\n",
       " <a href=\"catalogue/category/books/sequential-art_5/index.html\">\n",
       "                             \n",
       "                                 Sequential Art\n",
       "                             \n",
       "                         </a>\n",
       " </li>, <li>\n",
       " <a href=\"catalogue/category/books/classics_6/index.html\">\n",
       "                             \n",
       "                                 Classics\n",
       "                             \n",
       "                         </a>\n",
       " </li>, <li>\n",
       " <a href=\"catalogue/category/books/philosophy_7/index.html\">\n",
       "                             \n",
       "                                 Philosophy\n",
       "                             \n",
       "                         </a>\n",
       " </li>, <li>\n",
       " <a href=\"catalogue/category/books/romance_8/index.html\">\n",
       "                             \n",
       "                                 Romance\n",
       "                             \n",
       "                         </a>\n",
       " </li>, <li>\n",
       " <a href=\"catalogue/category/books/womens-fiction_9/index.html\">\n",
       "                             \n",
       "                                 Womens Fiction\n",
       "                             \n",
       "                         </a>\n",
       " </li>, <li>\n",
       " <a href=\"catalogue/category/books/fiction_10/index.html\">\n",
       "                             \n",
       "                                 Fiction\n",
       "                             \n",
       "                         </a>\n",
       " </li>, <li>\n",
       " <a href=\"catalogue/category/books/childrens_11/index.html\">\n",
       "                             \n",
       "                                 Childrens\n",
       "                             \n",
       "                         </a>\n",
       " </li>, <li>\n",
       " <a href=\"catalogue/category/books/religion_12/index.html\">\n",
       "                             \n",
       "                                 Religion\n",
       "                             \n",
       "                         </a>\n",
       " </li>, <li>\n",
       " <a href=\"catalogue/category/books/nonfiction_13/index.html\">\n",
       "                             \n",
       "                                 Nonfiction\n",
       "                             \n",
       "                         </a>\n",
       " </li>, <li>\n",
       " <a href=\"catalogue/category/books/music_14/index.html\">\n",
       "                             \n",
       "                                 Music\n",
       "                             \n",
       "                         </a>\n",
       " </li>, <li>\n",
       " <a href=\"catalogue/category/books/default_15/index.html\">\n",
       "                             \n",
       "                                 Default\n",
       "                             \n",
       "                         </a>\n",
       " </li>, <li>\n",
       " <a href=\"catalogue/category/books/science-fiction_16/index.html\">\n",
       "                             \n",
       "                                 Science Fiction\n",
       "                             \n",
       "                         </a>\n",
       " </li>, <li>\n",
       " <a href=\"catalogue/category/books/sports-and-games_17/index.html\">\n",
       "                             \n",
       "                                 Sports and Games\n",
       "                             \n",
       "                         </a>\n",
       " </li>, <li>\n",
       " <a href=\"catalogue/category/books/add-a-comment_18/index.html\">\n",
       "                             \n",
       "                                 Add a comment\n",
       "                             \n",
       "                         </a>\n",
       " </li>, <li>\n",
       " <a href=\"catalogue/category/books/fantasy_19/index.html\">\n",
       "                             \n",
       "                                 Fantasy\n",
       "                             \n",
       "                         </a>\n",
       " </li>, <li>\n",
       " <a href=\"catalogue/category/books/new-adult_20/index.html\">\n",
       "                             \n",
       "                                 New Adult\n",
       "                             \n",
       "                         </a>\n",
       " </li>, <li>\n",
       " <a href=\"catalogue/category/books/young-adult_21/index.html\">\n",
       "                             \n",
       "                                 Young Adult\n",
       "                             \n",
       "                         </a>\n",
       " </li>, <li>\n",
       " <a href=\"catalogue/category/books/science_22/index.html\">\n",
       "                             \n",
       "                                 Science\n",
       "                             \n",
       "                         </a>\n",
       " </li>, <li>\n",
       " <a href=\"catalogue/category/books/poetry_23/index.html\">\n",
       "                             \n",
       "                                 Poetry\n",
       "                             \n",
       "                         </a>\n",
       " </li>, <li>\n",
       " <a href=\"catalogue/category/books/paranormal_24/index.html\">\n",
       "                             \n",
       "                                 Paranormal\n",
       "                             \n",
       "                         </a>\n",
       " </li>, <li>\n",
       " <a href=\"catalogue/category/books/art_25/index.html\">\n",
       "                             \n",
       "                                 Art\n",
       "                             \n",
       "                         </a>\n",
       " </li>, <li>\n",
       " <a href=\"catalogue/category/books/psychology_26/index.html\">\n",
       "                             \n",
       "                                 Psychology\n",
       "                             \n",
       "                         </a>\n",
       " </li>, <li>\n",
       " <a href=\"catalogue/category/books/autobiography_27/index.html\">\n",
       "                             \n",
       "                                 Autobiography\n",
       "                             \n",
       "                         </a>\n",
       " </li>, <li>\n",
       " <a href=\"catalogue/category/books/parenting_28/index.html\">\n",
       "                             \n",
       "                                 Parenting\n",
       "                             \n",
       "                         </a>\n",
       " </li>, <li>\n",
       " <a href=\"catalogue/category/books/adult-fiction_29/index.html\">\n",
       "                             \n",
       "                                 Adult Fiction\n",
       "                             \n",
       "                         </a>\n",
       " </li>, <li>\n",
       " <a href=\"catalogue/category/books/humor_30/index.html\">\n",
       "                             \n",
       "                                 Humor\n",
       "                             \n",
       "                         </a>\n",
       " </li>, <li>\n",
       " <a href=\"catalogue/category/books/horror_31/index.html\">\n",
       "                             \n",
       "                                 Horror\n",
       "                             \n",
       "                         </a>\n",
       " </li>, <li>\n",
       " <a href=\"catalogue/category/books/history_32/index.html\">\n",
       "                             \n",
       "                                 History\n",
       "                             \n",
       "                         </a>\n",
       " </li>, <li>\n",
       " <a href=\"catalogue/category/books/food-and-drink_33/index.html\">\n",
       "                             \n",
       "                                 Food and Drink\n",
       "                             \n",
       "                         </a>\n",
       " </li>, <li>\n",
       " <a href=\"catalogue/category/books/christian-fiction_34/index.html\">\n",
       "                             \n",
       "                                 Christian Fiction\n",
       "                             \n",
       "                         </a>\n",
       " </li>, <li>\n",
       " <a href=\"catalogue/category/books/business_35/index.html\">\n",
       "                             \n",
       "                                 Business\n",
       "                             \n",
       "                         </a>\n",
       " </li>, <li>\n",
       " <a href=\"catalogue/category/books/biography_36/index.html\">\n",
       "                             \n",
       "                                 Biography\n",
       "                             \n",
       "                         </a>\n",
       " </li>, <li>\n",
       " <a href=\"catalogue/category/books/thriller_37/index.html\">\n",
       "                             \n",
       "                                 Thriller\n",
       "                             \n",
       "                         </a>\n",
       " </li>, <li>\n",
       " <a href=\"catalogue/category/books/contemporary_38/index.html\">\n",
       "                             \n",
       "                                 Contemporary\n",
       "                             \n",
       "                         </a>\n",
       " </li>, <li>\n",
       " <a href=\"catalogue/category/books/spirituality_39/index.html\">\n",
       "                             \n",
       "                                 Spirituality\n",
       "                             \n",
       "                         </a>\n",
       " </li>, <li>\n",
       " <a href=\"catalogue/category/books/academic_40/index.html\">\n",
       "                             \n",
       "                                 Academic\n",
       "                             \n",
       "                         </a>\n",
       " </li>, <li>\n",
       " <a href=\"catalogue/category/books/self-help_41/index.html\">\n",
       "                             \n",
       "                                 Self Help\n",
       "                             \n",
       "                         </a>\n",
       " </li>, <li>\n",
       " <a href=\"catalogue/category/books/historical_42/index.html\">\n",
       "                             \n",
       "                                 Historical\n",
       "                             \n",
       "                         </a>\n",
       " </li>, <li>\n",
       " <a href=\"catalogue/category/books/christian_43/index.html\">\n",
       "                             \n",
       "                                 Christian\n",
       "                             \n",
       "                         </a>\n",
       " </li>, <li>\n",
       " <a href=\"catalogue/category/books/suspense_44/index.html\">\n",
       "                             \n",
       "                                 Suspense\n",
       "                             \n",
       "                         </a>\n",
       " </li>, <li>\n",
       " <a href=\"catalogue/category/books/short-stories_45/index.html\">\n",
       "                             \n",
       "                                 Short Stories\n",
       "                             \n",
       "                         </a>\n",
       " </li>, <li>\n",
       " <a href=\"catalogue/category/books/novels_46/index.html\">\n",
       "                             \n",
       "                                 Novels\n",
       "                             \n",
       "                         </a>\n",
       " </li>, <li>\n",
       " <a href=\"catalogue/category/books/health_47/index.html\">\n",
       "                             \n",
       "                                 Health\n",
       "                             \n",
       "                         </a>\n",
       " </li>, <li>\n",
       " <a href=\"catalogue/category/books/politics_48/index.html\">\n",
       "                             \n",
       "                                 Politics\n",
       "                             \n",
       "                         </a>\n",
       " </li>, <li>\n",
       " <a href=\"catalogue/category/books/cultural_49/index.html\">\n",
       "                             \n",
       "                                 Cultural\n",
       "                             \n",
       "                         </a>\n",
       " </li>, <li>\n",
       " <a href=\"catalogue/category/books/erotica_50/index.html\">\n",
       "                             \n",
       "                                 Erotica\n",
       "                             \n",
       "                         </a>\n",
       " </li>, <li>\n",
       " <a href=\"catalogue/category/books/crime_51/index.html\">\n",
       "                             \n",
       "                                 Crime\n",
       "                             \n",
       "                         </a>\n",
       " </li>]"
      ]
     },
     "execution_count": 78,
     "metadata": {},
     "output_type": "execute_result"
    }
   ],
   "source": [
    "data.find(class_ = 'nav-list').li.ul.find_all('li')\n"
   ]
  }
 ],
 "metadata": {
  "kernelspec": {
   "display_name": "Python 3",
   "language": "python",
   "name": "python3"
  },
  "language_info": {
   "codemirror_mode": {
    "name": "ipython",
    "version": 3
   },
   "file_extension": ".py",
   "mimetype": "text/x-python",
   "name": "python",
   "nbconvert_exporter": "python",
   "pygments_lexer": "ipython3",
   "version": "3.7.4"
  }
 },
 "nbformat": 4,
 "nbformat_minor": 2
}
