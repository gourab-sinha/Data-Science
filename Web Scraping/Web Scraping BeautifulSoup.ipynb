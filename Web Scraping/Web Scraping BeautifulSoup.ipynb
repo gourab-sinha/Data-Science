{
 "cells": [
  {
   "cell_type": "code",
   "execution_count": 3,
   "metadata": {},
   "outputs": [],
   "source": [
    "#\n",
    "html = '''<!DOCTYPE html>\\\n",
    "<html>\\\n",
    "<head>\\\n",
    "\t<title>Testing Web Page</title>\\\n",
    "</head>\\\n",
    "<body>\\\n",
    "<h1>Web Scraping</h1>\\\n",
    "<p class = \"abc\">\\\n",
    "\tHello ! Good morning. Have a good Day !\\\n",
    "</p>\\\n",
    "\n",
    "<p id = \"def\" >\\\n",
    "\t<a href=\"https://codingninjas.in/\"> Coding Nnjas </a>\\\n",
    "</p>\\\n",
    "\n",
    "<p class = \"abc\">\\\n",
    "\thello\\\n",
    "</p>\\\n",
    "</body>\\\n",
    "</html>'''\n"
   ]
  },
  {
   "cell_type": "code",
   "execution_count": 5,
   "metadata": {},
   "outputs": [
    {
     "data": {
      "text/plain": [
       "<!DOCTYPE html>\n",
       "<html><head> <title>Testing Web Page</title></head><body><h1>Web Scraping</h1><p class=\"abc\">\tHello ! Good morning. Have a good Day !</p>\n",
       "<p id=\"def\"> <a href=\"https://codingninjas.in/\"> Coding Nnjas </a></p>\n",
       "<p class=\"abc\">\thello</p></body></html>"
      ]
     },
     "execution_count": 5,
     "metadata": {},
     "output_type": "execute_result"
    }
   ],
   "source": [
    "from bs4 import BeautifulSoup\n",
    "data = BeautifulSoup(html,'html.parser')\n",
    "data"
   ]
  },
  {
   "cell_type": "code",
   "execution_count": 7,
   "metadata": {},
   "outputs": [
    {
     "data": {
      "text/plain": [
       "bs4.BeautifulSoup"
      ]
     },
     "execution_count": 7,
     "metadata": {},
     "output_type": "execute_result"
    }
   ],
   "source": [
    "type(data)"
   ]
  },
  {
   "cell_type": "code",
   "execution_count": 8,
   "metadata": {},
   "outputs": [
    {
     "name": "stdout",
     "output_type": "stream",
     "text": [
      "<!DOCTYPE html>\n",
      "<html>\n",
      " <head>\n",
      "  <title>\n",
      "   Testing Web Page\n",
      "  </title>\n",
      " </head>\n",
      " <body>\n",
      "  <h1>\n",
      "   Web Scraping\n",
      "  </h1>\n",
      "  <p class=\"abc\">\n",
      "   Hello ! Good morning. Have a good Day !\n",
      "  </p>\n",
      "  <p id=\"def\">\n",
      "   <a href=\"https://codingninjas.in/\">\n",
      "    Coding Nnjas\n",
      "   </a>\n",
      "  </p>\n",
      "  <p class=\"abc\">\n",
      "   hello\n",
      "  </p>\n",
      " </body>\n",
      "</html>\n"
     ]
    }
   ],
   "source": [
    "print(data.prettify())"
   ]
  },
  {
   "cell_type": "code",
   "execution_count": 10,
   "metadata": {},
   "outputs": [
    {
     "data": {
      "text/plain": [
       "<title>Testing Web Page</title>"
      ]
     },
     "execution_count": 10,
     "metadata": {},
     "output_type": "execute_result"
    }
   ],
   "source": [
    "data.title"
   ]
  },
  {
   "cell_type": "code",
   "execution_count": 11,
   "metadata": {},
   "outputs": [
    {
     "data": {
      "text/plain": [
       "<head> <title>Testing Web Page</title></head>"
      ]
     },
     "execution_count": 11,
     "metadata": {},
     "output_type": "execute_result"
    }
   ],
   "source": [
    "data.head"
   ]
  },
  {
   "cell_type": "code",
   "execution_count": 13,
   "metadata": {},
   "outputs": [
    {
     "data": {
      "text/plain": [
       "<p class=\"abc\">\tHello ! Good morning. Have a good Day !</p>"
      ]
     },
     "execution_count": 13,
     "metadata": {},
     "output_type": "execute_result"
    }
   ],
   "source": [
    "data.p # only first tag"
   ]
  },
  {
   "cell_type": "code",
   "execution_count": 15,
   "metadata": {},
   "outputs": [
    {
     "data": {
      "text/plain": [
       "'Testing Web Page'"
      ]
     },
     "execution_count": 15,
     "metadata": {},
     "output_type": "execute_result"
    }
   ],
   "source": [
    "data.title.name # name of the tag\n",
    "data.title.string # the string present inside the tag"
   ]
  },
  {
   "cell_type": "code",
   "execution_count": 17,
   "metadata": {},
   "outputs": [
    {
     "data": {
      "text/plain": [
       "{'class': ['abc']}"
      ]
     },
     "execution_count": 17,
     "metadata": {},
     "output_type": "execute_result"
    }
   ],
   "source": [
    "data.p.attrs # get the attributes of a tag"
   ]
  },
  {
   "cell_type": "code",
   "execution_count": 20,
   "metadata": {},
   "outputs": [
    {
     "data": {
      "text/plain": [
       "['abc']"
      ]
     },
     "execution_count": 20,
     "metadata": {},
     "output_type": "execute_result"
    }
   ],
   "source": [
    "data.p['class']"
   ]
  },
  {
   "cell_type": "code",
   "execution_count": 22,
   "metadata": {},
   "outputs": [
    {
     "data": {
      "text/plain": [
       "' Testing Web PageWeb Scraping\\tHello ! Good morning. Have a good Day !\\n  Coding Nnjas \\n\\thello'"
      ]
     },
     "execution_count": 22,
     "metadata": {},
     "output_type": "execute_result"
    }
   ],
   "source": [
    "data.get_text() # all the text present on the webpage"
   ]
  },
  {
   "cell_type": "code",
   "execution_count": 24,
   "metadata": {},
   "outputs": [
    {
     "data": {
      "text/plain": [
       "<p class=\"abc\">\tHello ! Good morning. Have a good Day !</p>"
      ]
     },
     "execution_count": 24,
     "metadata": {},
     "output_type": "execute_result"
    }
   ],
   "source": [
    "data.find('p') # first occurrence."
   ]
  },
  {
   "cell_type": "code",
   "execution_count": 26,
   "metadata": {},
   "outputs": [
    {
     "data": {
      "text/plain": [
       "[<p class=\"abc\">\tHello ! Good morning. Have a good Day !</p>,\n",
       " <p id=\"def\"> <a href=\"https://codingninjas.in/\"> Coding Nnjas </a></p>,\n",
       " <p class=\"abc\">\thello</p>]"
      ]
     },
     "execution_count": 26,
     "metadata": {},
     "output_type": "execute_result"
    }
   ],
   "source": [
    "data.find_all('p')"
   ]
  },
  {
   "cell_type": "code",
   "execution_count": 28,
   "metadata": {},
   "outputs": [
    {
     "data": {
      "text/plain": [
       "[<p class=\"abc\">\tHello ! Good morning. Have a good Day !</p>,\n",
       " <p id=\"def\"> <a href=\"https://codingninjas.in/\"> Coding Nnjas </a></p>,\n",
       " <a href=\"https://codingninjas.in/\"> Coding Nnjas </a>,\n",
       " <p class=\"abc\">\thello</p>]"
      ]
     },
     "execution_count": 28,
     "metadata": {},
     "output_type": "execute_result"
    }
   ],
   "source": [
    "data.find_all(['p','a']) # only those passed tag"
   ]
  },
  {
   "cell_type": "code",
   "execution_count": 30,
   "metadata": {},
   "outputs": [
    {
     "data": {
      "text/plain": [
       "[<html><head> <title>Testing Web Page</title></head><body><h1>Web Scraping</h1><p class=\"abc\">\tHello ! Good morning. Have a good Day !</p>\n",
       " <p id=\"def\"> <a href=\"https://codingninjas.in/\"> Coding Nnjas </a></p>\n",
       " <p class=\"abc\">\thello</p></body></html>,\n",
       " <head> <title>Testing Web Page</title></head>,\n",
       " <title>Testing Web Page</title>,\n",
       " <body><h1>Web Scraping</h1><p class=\"abc\">\tHello ! Good morning. Have a good Day !</p>\n",
       " <p id=\"def\"> <a href=\"https://codingninjas.in/\"> Coding Nnjas </a></p>\n",
       " <p class=\"abc\">\thello</p></body>,\n",
       " <h1>Web Scraping</h1>,\n",
       " <p class=\"abc\">\tHello ! Good morning. Have a good Day !</p>,\n",
       " <p id=\"def\"> <a href=\"https://codingninjas.in/\"> Coding Nnjas </a></p>,\n",
       " <a href=\"https://codingninjas.in/\"> Coding Nnjas </a>,\n",
       " <p class=\"abc\">\thello</p>]"
      ]
     },
     "execution_count": 30,
     "metadata": {},
     "output_type": "execute_result"
    }
   ],
   "source": [
    "data.find_all(True) # all tags"
   ]
  },
  {
   "cell_type": "code",
   "execution_count": 32,
   "metadata": {},
   "outputs": [
    {
     "data": {
      "text/plain": [
       "[<p id=\"def\"> <a href=\"https://codingninjas.in/\"> Coding Nnjas </a></p>]"
      ]
     },
     "execution_count": 32,
     "metadata": {},
     "output_type": "execute_result"
    }
   ],
   "source": [
    "data.find_all(id = 'def') # only that id"
   ]
  },
  {
   "cell_type": "code",
   "execution_count": 35,
   "metadata": {},
   "outputs": [
    {
     "data": {
      "text/plain": [
       "[<p class=\"abc\">\tHello ! Good morning. Have a good Day !</p>,\n",
       " <p class=\"abc\">\thello</p>]"
      ]
     },
     "execution_count": 35,
     "metadata": {},
     "output_type": "execute_result"
    }
   ],
   "source": [
    "data.find_all(class_ = 'abc') # class with the provided name"
   ]
  },
  {
   "cell_type": "code",
   "execution_count": 37,
   "metadata": {},
   "outputs": [],
   "source": [
    "#  data.select() # css selectors. "
   ]
  },
  {
   "cell_type": "code",
   "execution_count": 38,
   "metadata": {},
   "outputs": [
    {
     "data": {
      "text/plain": [
       "'Testing Web Page'"
      ]
     },
     "execution_count": 38,
     "metadata": {},
     "output_type": "execute_result"
    }
   ],
   "source": [
    "data.head.title.string # Going Down"
   ]
  },
  {
   "cell_type": "code",
   "execution_count": 40,
   "metadata": {},
   "outputs": [
    {
     "name": "stdout",
     "output_type": "stream",
     "text": [
      "['Hello ! Good morning. Have a good Day !']\n",
      "['Coding Nnjas']\n",
      "['hello']\n"
     ]
    }
   ],
   "source": [
    "li  = data.find_all('p')\n",
    "for i in li:\n",
    "    print(list(i.stripped_strings))"
   ]
  },
  {
   "cell_type": "code",
   "execution_count": 42,
   "metadata": {},
   "outputs": [
    {
     "name": "stdout",
     "output_type": "stream",
     "text": [
      "2\n",
      "[<head> <title>Testing Web Page</title></head>, <body><h1>Web Scraping</h1><p class=\"abc\">\tHello ! Good morning. Have a good Day !</p>\n",
      "<p id=\"def\"> <a href=\"https://codingninjas.in/\"> Coding Nnjas </a></p>\n",
      "<p class=\"abc\">\thello</p></body>]\n"
     ]
    }
   ],
   "source": [
    "li = data.html.contents # all the children as a list\n",
    "print(len(li))\n",
    "print(li)"
   ]
  },
  {
   "cell_type": "code",
   "execution_count": 44,
   "metadata": {},
   "outputs": [
    {
     "name": "stdout",
     "output_type": "stream",
     "text": [
      "<head> <title>Testing Web Page</title></head>\n",
      "<body><h1>Web Scraping</h1><p class=\"abc\">\tHello ! Good morning. Have a good Day !</p>\n",
      "<p id=\"def\"> <a href=\"https://codingninjas.in/\"> Coding Nnjas </a></p>\n",
      "<p class=\"abc\">\thello</p></body>\n"
     ]
    }
   ],
   "source": [
    "li_2 = data.html.children # iterator on which we need to iterate to get the children\n",
    "for i in li_2:\n",
    "    print(i)"
   ]
  },
  {
   "cell_type": "code",
   "execution_count": 47,
   "metadata": {},
   "outputs": [
    {
     "name": "stdout",
     "output_type": "stream",
     "text": [
      "17\n"
     ]
    },
    {
     "data": {
      "text/plain": [
       "[<head> <title>Testing Web Page</title></head>,\n",
       " ' ',\n",
       " <title>Testing Web Page</title>,\n",
       " 'Testing Web Page',\n",
       " <body><h1>Web Scraping</h1><p class=\"abc\">\tHello ! Good morning. Have a good Day !</p>\n",
       " <p id=\"def\"> <a href=\"https://codingninjas.in/\"> Coding Nnjas </a></p>\n",
       " <p class=\"abc\">\thello</p></body>,\n",
       " <h1>Web Scraping</h1>,\n",
       " 'Web Scraping',\n",
       " <p class=\"abc\">\tHello ! Good morning. Have a good Day !</p>,\n",
       " '\\tHello ! Good morning. Have a good Day !',\n",
       " '\\n',\n",
       " <p id=\"def\"> <a href=\"https://codingninjas.in/\"> Coding Nnjas </a></p>,\n",
       " ' ',\n",
       " <a href=\"https://codingninjas.in/\"> Coding Nnjas </a>,\n",
       " ' Coding Nnjas ',\n",
       " '\\n',\n",
       " <p class=\"abc\">\thello</p>,\n",
       " '\\thello']"
      ]
     },
     "execution_count": 47,
     "metadata": {},
     "output_type": "execute_result"
    }
   ],
   "source": [
    "desc = list(data.html.descendants)\n",
    "print(len(desc))\n",
    "desc\n"
   ]
  },
  {
   "cell_type": "code",
   "execution_count": 52,
   "metadata": {},
   "outputs": [
    {
     "data": {
      "text/plain": [
       "[' ', <title>Testing Web Page</title>]"
      ]
     },
     "execution_count": 52,
     "metadata": {},
     "output_type": "execute_result"
    }
   ],
   "source": [
    "list(data.title.parent) # returns immediate parent"
   ]
  },
  {
   "cell_type": "code",
   "execution_count": 53,
   "metadata": {},
   "outputs": [
    {
     "data": {
      "text/plain": [
       "[<head> <title>Testing Web Page</title></head>,\n",
       " <html><head> <title>Testing Web Page</title></head><body><h1>Web Scraping</h1><p class=\"abc\">\tHello ! Good morning. Have a good Day !</p>\n",
       " <p id=\"def\"> <a href=\"https://codingninjas.in/\"> Coding Nnjas </a></p>\n",
       " <p class=\"abc\">\thello</p></body></html>,\n",
       " <!DOCTYPE html>\n",
       " <html><head> <title>Testing Web Page</title></head><body><h1>Web Scraping</h1><p class=\"abc\">\tHello ! Good morning. Have a good Day !</p>\n",
       " <p id=\"def\"> <a href=\"https://codingninjas.in/\"> Coding Nnjas </a></p>\n",
       " <p class=\"abc\">\thello</p></body></html>]"
      ]
     },
     "execution_count": 53,
     "metadata": {},
     "output_type": "execute_result"
    }
   ],
   "source": [
    "list(data.title.parents) # returns all the parent of parents"
   ]
  }
 ],
 "metadata": {
  "kernelspec": {
   "display_name": "Python 3",
   "language": "python",
   "name": "python3"
  },
  "language_info": {
   "codemirror_mode": {
    "name": "ipython",
    "version": 3
   },
   "file_extension": ".py",
   "mimetype": "text/x-python",
   "name": "python",
   "nbconvert_exporter": "python",
   "pygments_lexer": "ipython3",
   "version": "3.7.4"
  }
 },
 "nbformat": 4,
 "nbformat_minor": 2
}
