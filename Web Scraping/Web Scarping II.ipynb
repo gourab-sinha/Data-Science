{
 "cells": [
  {
   "cell_type": "code",
   "execution_count": 7,
   "metadata": {
    "scrolled": true
   },
   "outputs": [
    {
     "name": "stdout",
     "output_type": "stream",
     "text": [
      "http://books.toscrape.com/catalogue/page-2.html\n",
      "http://books.toscrape.com/catalogue/page-3.html\n",
      "http://books.toscrape.com/catalogue/page-4.html\n",
      "http://books.toscrape.com/catalogue/page-5.html\n",
      "http://books.toscrape.com/catalogue/page-6.html\n",
      "http://books.toscrape.com/catalogue/page-7.html\n",
      "http://books.toscrape.com/catalogue/page-8.html\n",
      "http://books.toscrape.com/catalogue/page-9.html\n",
      "http://books.toscrape.com/catalogue/page-10.html\n",
      "http://books.toscrape.com/catalogue/page-11.html\n",
      "http://books.toscrape.com/catalogue/page-12.html\n",
      "http://books.toscrape.com/catalogue/page-13.html\n",
      "http://books.toscrape.com/catalogue/page-14.html\n",
      "http://books.toscrape.com/catalogue/page-15.html\n",
      "http://books.toscrape.com/catalogue/page-16.html\n",
      "http://books.toscrape.com/catalogue/page-17.html\n",
      "http://books.toscrape.com/catalogue/page-18.html\n",
      "http://books.toscrape.com/catalogue/page-19.html\n",
      "http://books.toscrape.com/catalogue/page-20.html\n",
      "http://books.toscrape.com/catalogue/page-21.html\n",
      "http://books.toscrape.com/catalogue/page-22.html\n",
      "http://books.toscrape.com/catalogue/page-23.html\n",
      "http://books.toscrape.com/catalogue/page-24.html\n",
      "http://books.toscrape.com/catalogue/page-25.html\n",
      "http://books.toscrape.com/catalogue/page-26.html\n",
      "http://books.toscrape.com/catalogue/page-27.html\n",
      "http://books.toscrape.com/catalogue/page-28.html\n",
      "http://books.toscrape.com/catalogue/page-29.html\n",
      "http://books.toscrape.com/catalogue/page-30.html\n",
      "http://books.toscrape.com/catalogue/page-31.html\n",
      "http://books.toscrape.com/catalogue/page-32.html\n",
      "http://books.toscrape.com/catalogue/page-33.html\n",
      "http://books.toscrape.com/catalogue/page-34.html\n",
      "http://books.toscrape.com/catalogue/page-35.html\n",
      "http://books.toscrape.com/catalogue/page-36.html\n",
      "http://books.toscrape.com/catalogue/page-37.html\n",
      "http://books.toscrape.com/catalogue/page-38.html\n",
      "http://books.toscrape.com/catalogue/page-39.html\n",
      "http://books.toscrape.com/catalogue/page-40.html\n",
      "http://books.toscrape.com/catalogue/page-41.html\n",
      "http://books.toscrape.com/catalogue/page-42.html\n",
      "http://books.toscrape.com/catalogue/page-43.html\n",
      "http://books.toscrape.com/catalogue/page-44.html\n",
      "http://books.toscrape.com/catalogue/page-45.html\n",
      "http://books.toscrape.com/catalogue/page-46.html\n",
      "http://books.toscrape.com/catalogue/page-47.html\n",
      "http://books.toscrape.com/catalogue/page-48.html\n",
      "http://books.toscrape.com/catalogue/page-49.html\n",
      "http://books.toscrape.com/catalogue/page-50.html\n"
     ]
    }
   ],
   "source": [
    "import requests\n",
    "from bs4 import BeautifulSoup\n",
    "\n",
    "base_url = 'http://books.toscrape.com/catalogue/'\n",
    "all_urls = ['http://books.toscrape.com/catalogue/page-1.html']\n",
    "current_page = 'http://books.toscrape.com/catalogue/page-1.html'\n",
    "response = requests.get(current_page)\n",
    "while response.status_code == 200:\n",
    "    data = BeautifulSoup(response.text,'html.parser')\n",
    "    next_page = data.find(class_ = 'next')\n",
    "    if next_page is None:\n",
    "        break\n",
    "    next_page_url = base_url + next_page.a['href']\n",
    "    current_page = next_page_url\n",
    "    print(current_page)\n",
    "    all_urls.append(next_page_url)\n",
    "    response = requests.get(current_page)\n",
    "    \n"
   ]
  },
  {
   "cell_type": "code",
   "execution_count": 12,
   "metadata": {},
   "outputs": [
    {
     "data": {
      "text/plain": [
       "200"
      ]
     },
     "execution_count": 12,
     "metadata": {},
     "output_type": "execute_result"
    }
   ],
   "source": [
    "base_url = 'http://books.toscrape.com/'\n",
    "response = requests.get(base_url)\n",
    "data = BeautifulSoup(response.text,'html.parser')\n",
    "response.status_code\n"
   ]
  },
  {
   "cell_type": "code",
   "execution_count": 19,
   "metadata": {},
   "outputs": [
    {
     "data": {
      "text/plain": [
       "'http://books.toscrape.com/catalogue/a-light-in-the-attic_1000/index.html'"
      ]
     },
     "execution_count": 19,
     "metadata": {},
     "output_type": "execute_result"
    }
   ],
   "source": [
    "b1 = data.find(class_ = 'product_pod')\n",
    "b1_url = base_url + b1.h3.a['href']\n",
    "b1_url"
   ]
  },
  {
   "cell_type": "code",
   "execution_count": 113,
   "metadata": {},
   "outputs": [
    {
     "name": "stdout",
     "output_type": "stream",
     "text": [
      "A Light in the Attic\n",
      "http://books.toscrape.com/catalogue/a-light-in-the-attic_1000/index.html\n",
      "Â£51.77\n",
      "In stock (22 available)\n"
     ]
    }
   ],
   "source": [
    "import re\n",
    "response = requests.get(b1_url)\n",
    "data = BeautifulSoup(response.text,'html.parser')\n",
    "title = data.h1.string\n",
    "price = data.find(class_ = 'price_color').string\n",
    "stock = data.find(class_ = 'instock availability')\n",
    "stock = stock.contents[-1].strip()\n",
    "print(title)\n",
    "print(b1_url)\n",
    "print(price)\n",
    "print(stock)"
   ]
  },
  {
   "cell_type": "code",
   "execution_count": 107,
   "metadata": {},
   "outputs": [
    {
     "data": {
      "text/plain": [
       "22"
      ]
     },
     "execution_count": 107,
     "metadata": {},
     "output_type": "execute_result"
    }
   ],
   "source": [
    "stock = int(re.search('\\d+',stock).group())\n",
    "stock"
   ]
  },
  {
   "cell_type": "code",
   "execution_count": 108,
   "metadata": {},
   "outputs": [
    {
     "data": {
      "text/plain": [
       "51.77"
      ]
     },
     "execution_count": 108,
     "metadata": {},
     "output_type": "execute_result"
    }
   ],
   "source": [
    "price = float(re.search('[\\d.]+',price).group())\n",
    "price"
   ]
  },
  {
   "cell_type": "code",
   "execution_count": 111,
   "metadata": {},
   "outputs": [],
   "source": [
    "import pandas as pd\n",
    "book_details = [[title,b1_url,stock,price]]\n",
    "df = pd.DataFrame(book_details,columns=['Title','URL','Stock','Price'])\n",
    "df.to_csv('Books.csv',index = False)"
   ]
  }
 ],
 "metadata": {
  "kernelspec": {
   "display_name": "Python 3",
   "language": "python",
   "name": "python3"
  },
  "language_info": {
   "codemirror_mode": {
    "name": "ipython",
    "version": 3
   },
   "file_extension": ".py",
   "mimetype": "text/x-python",
   "name": "python",
   "nbconvert_exporter": "python",
   "pygments_lexer": "ipython3",
   "version": "3.7.4"
  }
 },
 "nbformat": 4,
 "nbformat_minor": 2
}
