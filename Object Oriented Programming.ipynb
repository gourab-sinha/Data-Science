{
 "cells": [
  {
   "cell_type": "code",
   "execution_count": 9,
   "metadata": {},
   "outputs": [
    {
     "name": "stdout",
     "output_type": "stream",
     "text": [
      "<class '__main__.Student'>\n"
     ]
    }
   ],
   "source": [
    "# properties -> attributes\n",
    "# behaviour -> method.\n",
    "class Student:\n",
    "    pass\n",
    "s1 = Student()\n",
    "s2 = Student()\n",
    "s3 = Student()\n",
    "print(type(s1))"
   ]
  },
  {
   "cell_type": "code",
   "execution_count": 6,
   "metadata": {},
   "outputs": [],
   "source": [
    "# Instance attributes -> bound to object name instance attribute of a student class\n",
    "# class attributes - > bound to class rather than the object, class teacher , total student"
   ]
  },
  {
   "cell_type": "code",
   "execution_count": 11,
   "metadata": {},
   "outputs": [],
   "source": [
    "# Instance Attributes\n",
    "# objects can have differen instance object.\n",
    "s1.name = \"Mohit\"\n",
    "s1.age = 20\n"
   ]
  },
  {
   "cell_type": "code",
   "execution_count": 12,
   "metadata": {},
   "outputs": [],
   "source": [
    "s2.rollno = 7\n",
    "s3.age = 21"
   ]
  },
  {
   "cell_type": "code",
   "execution_count": 14,
   "metadata": {},
   "outputs": [
    {
     "data": {
      "text/plain": [
       "{'name': 'Mohit', 'age': 20}"
      ]
     },
     "execution_count": 14,
     "metadata": {},
     "output_type": "execute_result"
    }
   ],
   "source": [
    "# accessing the attributes values\n",
    "s1.__dict__"
   ]
  },
  {
   "cell_type": "code",
   "execution_count": 16,
   "metadata": {},
   "outputs": [
    {
     "data": {
      "text/plain": [
       "{'rollno': 7}"
      ]
     },
     "execution_count": 16,
     "metadata": {},
     "output_type": "execute_result"
    }
   ],
   "source": [
    "s2.__dict__"
   ]
  },
  {
   "cell_type": "code",
   "execution_count": 17,
   "metadata": {},
   "outputs": [
    {
     "data": {
      "text/plain": [
       "{'age': 21}"
      ]
     },
     "execution_count": 17,
     "metadata": {},
     "output_type": "execute_result"
    }
   ],
   "source": [
    "s3.__dict__"
   ]
  },
  {
   "cell_type": "code",
   "execution_count": 18,
   "metadata": {},
   "outputs": [
    {
     "data": {
      "text/plain": [
       "{}"
      ]
     },
     "execution_count": 18,
     "metadata": {},
     "output_type": "execute_result"
    }
   ],
   "source": [
    "s4 = Student()\n",
    "s4.__dict__"
   ]
  },
  {
   "cell_type": "code",
   "execution_count": 20,
   "metadata": {},
   "outputs": [
    {
     "name": "stdout",
     "output_type": "stream",
     "text": [
      "Mohit\n"
     ]
    }
   ],
   "source": [
    "print(s1.name)"
   ]
  },
  {
   "cell_type": "code",
   "execution_count": 21,
   "metadata": {},
   "outputs": [
    {
     "ename": "AttributeError",
     "evalue": "'Student' object has no attribute 'name'",
     "output_type": "error",
     "traceback": [
      "\u001b[0;31m---------------------------------------------------------------------------\u001b[0m",
      "\u001b[0;31mAttributeError\u001b[0m                            Traceback (most recent call last)",
      "\u001b[0;32m<ipython-input-21-0f62c5043e99>\u001b[0m in \u001b[0;36m<module>\u001b[0;34m\u001b[0m\n\u001b[0;32m----> 1\u001b[0;31m \u001b[0mprint\u001b[0m\u001b[0;34m(\u001b[0m\u001b[0ms2\u001b[0m\u001b[0;34m.\u001b[0m\u001b[0mname\u001b[0m\u001b[0;34m)\u001b[0m\u001b[0;34m\u001b[0m\u001b[0;34m\u001b[0m\u001b[0m\n\u001b[0m",
      "\u001b[0;31mAttributeError\u001b[0m: 'Student' object has no attribute 'name'"
     ]
    }
   ],
   "source": [
    "print(s2.name)"
   ]
  },
  {
   "cell_type": "code",
   "execution_count": 23,
   "metadata": {},
   "outputs": [
    {
     "data": {
      "text/plain": [
       "True"
      ]
     },
     "execution_count": 23,
     "metadata": {},
     "output_type": "execute_result"
    }
   ],
   "source": [
    "hasattr(s1,'name') # object name, attribute name if present true otherwise false"
   ]
  },
  {
   "cell_type": "code",
   "execution_count": 24,
   "metadata": {},
   "outputs": [
    {
     "data": {
      "text/plain": [
       "False"
      ]
     },
     "execution_count": 24,
     "metadata": {},
     "output_type": "execute_result"
    }
   ],
   "source": [
    "hasattr(s2,'name')"
   ]
  },
  {
   "cell_type": "code",
   "execution_count": 26,
   "metadata": {},
   "outputs": [],
   "source": [
    "setattr(s1,'name','Gourab') # set the attribute valueto Gourab "
   ]
  },
  {
   "cell_type": "code",
   "execution_count": 28,
   "metadata": {},
   "outputs": [
    {
     "name": "stdout",
     "output_type": "stream",
     "text": [
      "Gourab\n"
     ]
    }
   ],
   "source": [
    "print(s1.name)"
   ]
  },
  {
   "cell_type": "code",
   "execution_count": 31,
   "metadata": {},
   "outputs": [
    {
     "name": "stdout",
     "output_type": "stream",
     "text": [
      "Gourab\n"
     ]
    }
   ],
   "source": [
    "setattr(s2,'name',\"Gourab\") # if attribute not present then it will make and then add value\n",
    "print(s2.name)"
   ]
  },
  {
   "cell_type": "code",
   "execution_count": 34,
   "metadata": {},
   "outputs": [
    {
     "ename": "AttributeError",
     "evalue": "name",
     "output_type": "error",
     "traceback": [
      "\u001b[0;31m---------------------------------------------------------------------------\u001b[0m",
      "\u001b[0;31mAttributeError\u001b[0m                            Traceback (most recent call last)",
      "\u001b[0;32m<ipython-input-34-975f6748b083>\u001b[0m in \u001b[0;36m<module>\u001b[0;34m\u001b[0m\n\u001b[0;32m----> 1\u001b[0;31m \u001b[0mdelattr\u001b[0m\u001b[0;34m(\u001b[0m\u001b[0ms1\u001b[0m\u001b[0;34m,\u001b[0m\u001b[0;34m'name'\u001b[0m\u001b[0;34m)\u001b[0m\u001b[0;34m\u001b[0m\u001b[0;34m\u001b[0m\u001b[0m\n\u001b[0m\u001b[1;32m      2\u001b[0m \u001b[0mprint\u001b[0m\u001b[0;34m(\u001b[0m\u001b[0ms1\u001b[0m\u001b[0;34m.\u001b[0m\u001b[0mname\u001b[0m\u001b[0;34m)\u001b[0m\u001b[0;34m\u001b[0m\u001b[0;34m\u001b[0m\u001b[0m\n",
      "\u001b[0;31mAttributeError\u001b[0m: name"
     ]
    }
   ],
   "source": [
    "delattr(s1,'name')\n",
    "print(s1.name)"
   ]
  },
  {
   "cell_type": "code",
   "execution_count": 36,
   "metadata": {},
   "outputs": [
    {
     "data": {
      "text/plain": [
       "'Gourab'"
      ]
     },
     "execution_count": 36,
     "metadata": {},
     "output_type": "execute_result"
    }
   ],
   "source": [
    "getattr(s3,'name','Gourab') # object then check the attribute present or not if pesent then return the value otherwise default value"
   ]
  },
  {
   "cell_type": "code",
   "execution_count": 39,
   "metadata": {},
   "outputs": [
    {
     "name": "stdout",
     "output_type": "stream",
     "text": [
      "{'__module__': '__main__', '__dict__': <attribute '__dict__' of 'Student' objects>, '__weakref__': <attribute '__weakref__' of 'Student' objects>, '__doc__': None, 'totalStudents': 20}\n"
     ]
    }
   ],
   "source": [
    "# Class Attributes\n",
    "Student.totalStudents = 20\n",
    "print(Student.__dict__)"
   ]
  },
  {
   "cell_type": "code",
   "execution_count": 41,
   "metadata": {},
   "outputs": [
    {
     "name": "stdout",
     "output_type": "stream",
     "text": [
      "{'__module__': '__main__', 'totalStudent': 20, 'classTeacher': 'Komal', '__dict__': <attribute '__dict__' of 'Student' objects>, '__weakref__': <attribute '__weakref__' of 'Student' objects>, '__doc__': None}\n"
     ]
    }
   ],
   "source": [
    "class Student:\n",
    "    ## Class Attributes\n",
    "    totalStudent = 20\n",
    "    classTeacher = \"Komal\"\n",
    "s1 = Student()\n",
    "s2 = Student()\n",
    "print(Student.__dict__)"
   ]
  },
  {
   "cell_type": "code",
   "execution_count": 43,
   "metadata": {},
   "outputs": [
    {
     "name": "stdout",
     "output_type": "stream",
     "text": [
      "{}\n",
      "{}\n"
     ]
    }
   ],
   "source": [
    "print(s1.__dict__)\n",
    "print(s2.__dict__)"
   ]
  },
  {
   "cell_type": "code",
   "execution_count": 48,
   "metadata": {},
   "outputs": [
    {
     "data": {
      "text/plain": [
       "30"
      ]
     },
     "execution_count": 48,
     "metadata": {},
     "output_type": "execute_result"
    }
   ],
   "source": [
    "s1.totalStudent"
   ]
  },
  {
   "cell_type": "code",
   "execution_count": 49,
   "metadata": {},
   "outputs": [],
   "source": [
    "Student.totalStudent = 30"
   ]
  },
  {
   "cell_type": "code",
   "execution_count": 53,
   "metadata": {},
   "outputs": [
    {
     "name": "stdout",
     "output_type": "stream",
     "text": [
      "30\n",
      "40\n",
      "30\n"
     ]
    }
   ],
   "source": [
    "print(Student.totalStudent)\n",
    "s1.totalStudent = 40 # it makes instance attribute. \n",
    "print(s1.totalStudent) \n",
    "print(s2.totalStudent)"
   ]
  },
  {
   "cell_type": "code",
   "execution_count": 85,
   "metadata": {
    "scrolled": true
   },
   "outputs": [
    {
     "name": "stdout",
     "output_type": "stream",
     "text": [
      "Hello\n",
      "hi\n"
     ]
    }
   ],
   "source": [
    "# Methods\n",
    "# Instance method -> own by the object\n",
    "# Class Methods -> own by the class\n",
    "# Static Methods -> \n",
    "class Student:\n",
    "    totalStudents = 20\n",
    "    classTeachersName = \"Komal\"\n",
    "    \n",
    "    ## Instance methods\n",
    "    def printHello(self): # self = s1\n",
    "        print(\"Hello\")\n",
    "    def print(self,str):\n",
    "        print(str)\n",
    "    \n",
    "    def printName(self):\n",
    "        name = \"abc\" # local variable \n",
    "        print(self.name) # object attribute\n",
    "        \n",
    "    def addName(self, name):\n",
    "        self.name = name\n",
    "    \n",
    "    def test(self):\n",
    "        Student.totalStudents = 25\n",
    "        print(Student.totalStudents)\n",
    "        Student.test_class = 90\n",
    "        \n",
    "s1 = Student()\n",
    "s2 = Student()\n",
    "s1.printHello() # Student.printHello(s1) is passed actually\n",
    "s2.print(\"hi\")"
   ]
  },
  {
   "cell_type": "code",
   "execution_count": 60,
   "metadata": {},
   "outputs": [
    {
     "name": "stdout",
     "output_type": "stream",
     "text": [
      "Hello\n"
     ]
    }
   ],
   "source": [
    "Student.printHello(s1)"
   ]
  },
  {
   "cell_type": "code",
   "execution_count": 67,
   "metadata": {},
   "outputs": [
    {
     "name": "stdout",
     "output_type": "stream",
     "text": [
      "Mohit\n"
     ]
    }
   ],
   "source": [
    "s1.name = \"Mohit\"\n",
    "s1.printName()"
   ]
  },
  {
   "cell_type": "code",
   "execution_count": 75,
   "metadata": {},
   "outputs": [
    {
     "name": "stdout",
     "output_type": "stream",
     "text": [
      "{'name': 'Gourab'}\n",
      "{}\n",
      "{'name': 'James'}\n"
     ]
    }
   ],
   "source": [
    "s1.addName(\"Gourab\")\n",
    "print(s1.__dict__)\n",
    "print(s2.__dict__)\n",
    "s1.addName(\"James\")\n",
    "print(s1.__dict__)"
   ]
  },
  {
   "cell_type": "code",
   "execution_count": 87,
   "metadata": {},
   "outputs": [
    {
     "name": "stdout",
     "output_type": "stream",
     "text": [
      "25\n",
      "{'__module__': '__main__', 'totalStudents': 25, 'classTeachersName': 'Komal', 'printHello': <function Student.printHello at 0x111e72c20>, 'print': <function Student.print at 0x111e72cb0>, 'printName': <function Student.printName at 0x111e72d40>, 'addName': <function Student.addName at 0x111e72dd0>, 'test': <function Student.test at 0x111e72e60>, '__dict__': <attribute '__dict__' of 'Student' objects>, '__weakref__': <attribute '__weakref__' of 'Student' objects>, '__doc__': None, 'test_class': 90}\n"
     ]
    }
   ],
   "source": [
    "s1 = Student()\n",
    "s1.test()\n",
    "print(Student.__dict__)\n",
    "# print(Student.totalStudents)"
   ]
  },
  {
   "cell_type": "code",
   "execution_count": 89,
   "metadata": {},
   "outputs": [
    {
     "name": "stdout",
     "output_type": "stream",
     "text": [
      "Constructor is called\n",
      "Constructor is called\n"
     ]
    }
   ],
   "source": [
    "# Constructor\n",
    "class Student:\n",
    "    totalStudents = 20\n",
    "    classTeacherName = \"Komal\"\n",
    "    \n",
    "    def __init__(self): # default constructor\n",
    "        print(\"Constructor is called\")\n",
    "    \n",
    "s1 = Student()\n",
    "s2 = Student()\n"
   ]
  },
  {
   "cell_type": "code",
   "execution_count": 94,
   "metadata": {},
   "outputs": [
    {
     "name": "stdout",
     "output_type": "stream",
     "text": [
      "{'name': 'mohit', 'age': 21, 'rollNumber': 101}\n",
      "{'name': 'Aman', 'age': 22, 'rollNumber': 102}\n",
      "{'name': 'Nikhil', 'age': 23, 'rollNumber': 101}\n"
     ]
    }
   ],
   "source": [
    "class Student:\n",
    "    totalStudents = 20\n",
    "    classTeacherName = \"Komal\"\n",
    "    \n",
    "    def __init__(self, name, age, rn=101): # default constructor\n",
    "        self.name = name\n",
    "        self.age = age\n",
    "        self.rollNumber = rn\n",
    "    # constructor overloading is not possible but we can have variable length input out argument\n",
    "s1 = Student(\"mohit\",21,101)\n",
    "s2 = Student(\"Aman\",22,102)\n",
    "s3 = Student(\"Nikhil\",23)\n",
    "print(s1.__dict__)\n",
    "print(s2.__dict__)\n",
    "print(s3.__dict__)"
   ]
  },
  {
   "cell_type": "code",
   "execution_count": 106,
   "metadata": {},
   "outputs": [
    {
     "name": "stdout",
     "output_type": "stream",
     "text": [
      "20\n",
      "Mohit\n",
      "Mohit\n",
      "Gourab\n",
      "Gourab\n"
     ]
    }
   ],
   "source": [
    "# Acces Modifiers\n",
    "# Private -> Only Inside the class __ private Abstraction -> Hiding Irrelavent info\n",
    "# Public -> Everywhere\n",
    "# Protected -> Inside the class and sub class \n",
    "# By default all are public in python.\n",
    "class Student:\n",
    "    totalStudents = 20\n",
    "    classTeacherName = \"Komal\"\n",
    "    \n",
    "    def __init__(self, name, age, rn=101): \n",
    "        self.__name = name\n",
    "        self.age = age\n",
    "        self.rollNumber = rn\n",
    "    \n",
    "    def printName(self):\n",
    "        print(self.__name)\n",
    "    \n",
    "    def getName(self):\n",
    "        return self.__name\n",
    "    \n",
    "    def setName(self, name):\n",
    "        self.__name = name\n",
    "\n",
    "s1 = Student(\"Mohit\", 20)\n",
    "print(s1.age)\n",
    "s1.printName()\n",
    "print(s1.getName())\n",
    "s1.setName(\"Gourab\")\n",
    "print(s1.getName())\n",
    "# private 1. Abstraction -> Hiding Irrelavent info\n",
    "#  do     2. Security -> restriction to get info. \n",
    "print(s1._Student__name)"
   ]
  },
  {
   "cell_type": "code",
   "execution_count": 108,
   "metadata": {},
   "outputs": [
    {
     "name": "stdout",
     "output_type": "stream",
     "text": [
      "20\n",
      "Mohit\n",
      "Mohit\n",
      "Gourab\n"
     ]
    },
    {
     "data": {
      "text/plain": [
       "20"
      ]
     },
     "execution_count": 108,
     "metadata": {},
     "output_type": "execute_result"
    }
   ],
   "source": [
    "class Student:\n",
    "    __totalStudents = 20\n",
    "    classTeacherName = \"Komal\"\n",
    "    \n",
    "    def getTotalStudent(self): # bound to instance \n",
    "        return Student.__totalStudents\n",
    "    \n",
    "    def __init__(self, name, age, rn=101): \n",
    "        self.__name = name\n",
    "        self.age = age\n",
    "        self.rollNumber = rn\n",
    "    \n",
    "    def printName(self):\n",
    "        print(self.__name)\n",
    "    \n",
    "    def getName(self):\n",
    "        return self.__name\n",
    "    \n",
    "    def setName(self, name):\n",
    "        self.__name = name\n",
    "\n",
    "s1 = Student(\"Mohit\", 20)\n",
    "print(s1.age)\n",
    "s1.printName()\n",
    "print(s1.getName())\n",
    "s1.setName(\"Gourab\")\n",
    "print(s1.getName())\n",
    "s1.getTotalStudent()"
   ]
  },
  {
   "cell_type": "code",
   "execution_count": 111,
   "metadata": {},
   "outputs": [
    {
     "name": "stdout",
     "output_type": "stream",
     "text": [
      "20\n"
     ]
    }
   ],
   "source": [
    "print(Student.getTotalStudent(s1))"
   ]
  },
  {
   "cell_type": "code",
   "execution_count": 115,
   "metadata": {},
   "outputs": [
    {
     "name": "stdout",
     "output_type": "stream",
     "text": [
      "20\n",
      "Mohit\n",
      "Mohit\n",
      "Gourab\n",
      "20\n"
     ]
    },
    {
     "data": {
      "text/plain": [
       "20"
      ]
     },
     "execution_count": 115,
     "metadata": {},
     "output_type": "execute_result"
    }
   ],
   "source": [
    "class Student:\n",
    "    __totalStudents = 20\n",
    "    classTeacherName = \"Komal\"\n",
    "    \n",
    "    @classmethod # function decorators. \n",
    "    def getTotalStudent(cls): # bound to class \n",
    "        return Student.__totalStudents\n",
    "    \n",
    "    def __init__(self, name, age, rn=101): \n",
    "        self.__name = name\n",
    "        self.age = age\n",
    "        self.rollNumber = rn\n",
    "    \n",
    "    def printName(self):\n",
    "        print(self.__name)\n",
    "    \n",
    "    def getName(self):\n",
    "        return self.__name\n",
    "    \n",
    "    def setName(self, name):\n",
    "        self.__name = name\n",
    "\n",
    "s1 = Student(\"Mohit\", 20)\n",
    "print(s1.age)\n",
    "s1.printName()\n",
    "print(s1.getName())\n",
    "s1.setName(\"Gourab\")\n",
    "print(s1.getName())\n",
    "print(Student.getTotalStudent())\n",
    "s1.getTotalStudent()"
   ]
  }
 ],
 "metadata": {
  "kernelspec": {
   "display_name": "Python 3",
   "language": "python",
   "name": "python3"
  },
  "language_info": {
   "codemirror_mode": {
    "name": "ipython",
    "version": 3
   },
   "file_extension": ".py",
   "mimetype": "text/x-python",
   "name": "python",
   "nbconvert_exporter": "python",
   "pygments_lexer": "ipython3",
   "version": "3.7.4"
  }
 },
 "nbformat": 4,
 "nbformat_minor": 2
}
